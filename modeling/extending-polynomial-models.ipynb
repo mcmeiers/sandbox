{
 "cells": [
  {
   "cell_type": "code",
   "execution_count": 1,
   "metadata": {
    "collapsed": true
   },
   "outputs": [],
   "source": [
    "import numpy as np\n",
    "from scipy import stats\n",
    "\n",
    "import numdifftools as nd\n",
    "\n",
    "from pathlib import Path\n",
    "\n",
    "from cobaya.theory import Theory\n",
    "from cobaya.run import run\n",
    "from cobaya.log import LoggedError\n",
    "\n",
    "from getdist.mcsamples import MCSamplesFromCobaya\n",
    "import getdist.plots as gdplt"
   ]
  },
  {
   "cell_type": "code",
   "execution_count": 2,
   "outputs": [],
   "source": [
    "rng = np.random.default_rng(1234)\n",
    "pert_min = 1\n",
    "pert_max = 2\n",
    "pert_order = rng.integers(low=pert_min, high=pert_max, size=1)\n",
    "\n",
    "coefs_truth = np.zeros(pert_max+1)\n",
    "coefs_truth[0] = 0.75\n",
    "coefs_truth[pert_order] = 0.1\n",
    "\n",
    "poly_truth = np.polynomial.Polynomial(coefs_truth)\n",
    "sample_std_dev = 0.05\n",
    "\n",
    "n_samples = 100\n",
    "sample_points = np.linspace(-1,1,num=n_samples)\n",
    "samples_truth = poly_truth(sample_points)\n",
    "sample_noise = rng.normal(0, sample_std_dev, n_samples)\n",
    "sample_observed = samples_truth+sample_noise"
   ],
   "metadata": {
    "collapsed": false,
    "pycharm": {
     "name": "#%%\n"
    }
   }
  },
  {
   "cell_type": "code",
   "execution_count": 7,
   "outputs": [
    {
     "name": "stdout",
     "output_type": "stream",
     "text": [
      "[noisy_data_like] Initialized external likelihood.\n",
      "[mcmc] Getting initial point... (this may take a few seconds)\n",
      "[prior] Reference values or pdf's for some parameters were not provided. Sampling from the prior instead for those parameters.\n",
      "[model] Measuring speeds... (this may take a few seconds)\n",
      "[model] Setting measured speeds (per sec): {noisy_data_like: 1220.0}\n",
      "[prior] *WARNING* Reference pdf not defined or improper for some parameters. Using prior's sigma instead for them.\n",
      "[mcmc] Covariance matrix not present. We will start learning the covariance of the proposal earlier: R-1 = 30 (would be 2 if all params loaded).\n",
      "[mcmc] Initial point: q0:0.5725918\n",
      "[mcmc] Sampling!\n",
      "[mcmc] Progress @ 2022-03-05 16:51:52 : 1 steps taken, and 0 accepted.\n",
      "[mcmc] Learn + convergence test @ 40 samples accepted.\n",
      "[mcmc]  - Acceptance rate: 0.024\n",
      "[mcmc]  - Convergence of means: R-1 = 0.600256 after 40 accepted steps\n",
      "[mcmc]  - Updated covariance matrix of proposal pdf.\n",
      "[mcmc] Learn + convergence test @ 80 samples accepted.\n",
      "[mcmc]  - Acceptance rate: 0.045\n",
      "[mcmc]  - Convergence of means: R-1 = 0.083138 after 80 accepted steps\n",
      "[mcmc]  - Updated covariance matrix of proposal pdf.\n",
      "[mcmc] Learn + convergence test @ 120 samples accepted.\n",
      "[mcmc]  - Acceptance rate: 0.065\n",
      "[mcmc]  - Convergence of means: R-1 = 0.108335 after 120 accepted steps\n",
      "[mcmc]  - Updated covariance matrix of proposal pdf.\n",
      "[mcmc] Learn + convergence test @ 160 samples accepted.\n",
      "[mcmc]  - Acceptance rate: 0.083\n",
      "[mcmc]  - Convergence of means: R-1 = 0.058154 after 160 accepted steps\n",
      "[mcmc]  - Updated covariance matrix of proposal pdf.\n",
      "[mcmc] Learn + convergence test @ 200 samples accepted.\n",
      "[mcmc]  - Acceptance rate: 0.099\n",
      "[mcmc]  - Convergence of means: R-1 = 0.015024 after 200 accepted steps\n",
      "[mcmc]  - Updated covariance matrix of proposal pdf.\n",
      "[mcmc] Learn + convergence test @ 240 samples accepted.\n",
      "[mcmc]  - Acceptance rate: 0.114\n",
      "[mcmc]  - Convergence of means: R-1 = 0.041488 after 240 accepted steps\n",
      "[mcmc]  - Updated covariance matrix of proposal pdf.\n",
      "[mcmc] Learn + convergence test @ 280 samples accepted.\n",
      "[mcmc]  - Acceptance rate: 0.126\n",
      "[mcmc]  - Convergence of means: R-1 = 0.006433 after 280 accepted steps\n",
      "[mcmc]  - Updated covariance matrix of proposal pdf.\n",
      "[mcmc] Learn + convergence test @ 320 samples accepted.\n",
      "[mcmc]  - Acceptance rate: 0.137\n",
      "[mcmc]  - Convergence of means: R-1 = 0.014618 after 320 accepted steps\n",
      "[mcmc]  - Updated covariance matrix of proposal pdf.\n",
      "[mcmc] Learn + convergence test @ 360 samples accepted.\n",
      "[mcmc]  - Acceptance rate: 0.146\n",
      "[mcmc]  - Convergence of means: R-1 = 0.006903 after 360 accepted steps\n",
      "[mcmc]  - Updated covariance matrix of proposal pdf.\n",
      "[mcmc] Learn + convergence test @ 400 samples accepted.\n",
      "[mcmc]  - Acceptance rate: 0.155\n",
      "[mcmc]  - Convergence of means: R-1 = 0.016521 after 400 accepted steps\n",
      "[mcmc]  - Updated covariance matrix of proposal pdf.\n",
      "[mcmc] Learn + convergence test @ 440 samples accepted.\n",
      "[mcmc]  - Acceptance rate: 0.164\n",
      "[mcmc]  - Convergence of means: R-1 = 0.015523 after 440 accepted steps\n",
      "[mcmc]  - Updated covariance matrix of proposal pdf.\n",
      "[mcmc] Learn + convergence test @ 480 samples accepted.\n",
      "[mcmc]  - Acceptance rate: 0.174\n",
      "[mcmc]  - Convergence of means: R-1 = 0.002246 after 480 accepted steps\n",
      "[mcmc]  - Updated covariance matrix of proposal pdf.\n",
      "[mcmc] Learn + convergence test @ 520 samples accepted.\n",
      "[mcmc]  - Acceptance rate: 0.183\n",
      "[mcmc]  - Convergence of means: R-1 = 0.012508 after 520 accepted steps\n",
      "[mcmc]  - Updated covariance matrix of proposal pdf.\n",
      "[mcmc] Learn + convergence test @ 560 samples accepted.\n",
      "[mcmc]  - Acceptance rate: 0.191\n",
      "[mcmc]  - Convergence of means: R-1 = 0.011470 after 560 accepted steps\n",
      "[mcmc]  - Updated covariance matrix of proposal pdf.\n",
      "[mcmc] Learn + convergence test @ 600 samples accepted.\n",
      "[mcmc]  - Acceptance rate: 0.199\n",
      "[mcmc]  - Convergence of means: R-1 = 0.005826 after 600 accepted steps\n",
      "[mcmc]  - Updated covariance matrix of proposal pdf.\n",
      "[mcmc] Learn + convergence test @ 640 samples accepted.\n",
      "[mcmc]  - Acceptance rate: 0.207\n",
      "[mcmc]  - Convergence of means: R-1 = 0.002880 after 640 accepted steps\n",
      "[mcmc]  - Updated covariance matrix of proposal pdf.\n",
      "[mcmc] Learn + convergence test @ 680 samples accepted.\n",
      "[mcmc]  - Acceptance rate: 0.214\n",
      "[mcmc]  - Convergence of means: R-1 = 0.009226 after 680 accepted steps\n",
      "[mcmc]  - Updated covariance matrix of proposal pdf.\n",
      "[mcmc] Learn + convergence test @ 720 samples accepted.\n",
      "[mcmc]  - Acceptance rate: 0.221\n",
      "[mcmc]  - Convergence of means: R-1 = 0.007027 after 720 accepted steps\n",
      "[mcmc]  - Updated covariance matrix of proposal pdf.\n",
      "[mcmc] Learn + convergence test @ 760 samples accepted.\n",
      "[mcmc]  - Acceptance rate: 0.227\n",
      "[mcmc]  - Convergence of means: R-1 = 0.013055 after 760 accepted steps\n",
      "[mcmc]  - Updated covariance matrix of proposal pdf.\n",
      "[mcmc] Learn + convergence test @ 800 samples accepted.\n",
      "[mcmc]  - Acceptance rate: 0.233\n",
      "[mcmc]  - Convergence of means: R-1 = 0.007315 after 800 accepted steps\n",
      "[mcmc]  - Updated covariance matrix of proposal pdf.\n",
      "[mcmc] Learn + convergence test @ 840 samples accepted.\n",
      "[mcmc]  - Acceptance rate: 0.239\n",
      "[mcmc]  - Convergence of means: R-1 = 0.012552 after 840 accepted steps\n",
      "[mcmc]  - Updated covariance matrix of proposal pdf.\n",
      "[mcmc] Learn + convergence test @ 880 samples accepted.\n",
      "[mcmc]  - Acceptance rate: 0.246\n",
      "[mcmc]  - Convergence of means: R-1 = 0.010590 after 880 accepted steps\n",
      "[mcmc]  - Updated covariance matrix of proposal pdf.\n",
      "[mcmc] Learn + convergence test @ 920 samples accepted.\n",
      "[mcmc]  - Acceptance rate: 0.252\n",
      "[mcmc]  - Convergence of means: R-1 = 0.017737 after 920 accepted steps\n",
      "[mcmc]  - Updated covariance matrix of proposal pdf.\n",
      "[mcmc] Learn + convergence test @ 960 samples accepted.\n",
      "[mcmc]  - Acceptance rate: 0.256\n",
      "[mcmc]  - Convergence of means: R-1 = 0.032257 after 960 accepted steps\n",
      "[mcmc]  - Updated covariance matrix of proposal pdf.\n",
      "[mcmc] Learn + convergence test @ 1000 samples accepted.\n",
      "[mcmc]  - Acceptance rate: 0.260\n",
      "[mcmc]  - Convergence of means: R-1 = 0.006740 after 1000 accepted steps\n",
      "[mcmc]  - Updated covariance matrix of proposal pdf.\n",
      "[mcmc] Learn + convergence test @ 1040 samples accepted.\n",
      "[mcmc]  - Acceptance rate: 0.263\n",
      "[mcmc]  - Convergence of means: R-1 = 0.024478 after 1040 accepted steps\n",
      "[mcmc]  - Updated covariance matrix of proposal pdf.\n",
      "[mcmc] Learn + convergence test @ 1080 samples accepted.\n",
      "[mcmc]  - Acceptance rate: 0.268\n",
      "[mcmc]  - Convergence of means: R-1 = 0.013831 after 1080 accepted steps\n",
      "[mcmc]  - Updated covariance matrix of proposal pdf.\n",
      "[mcmc] Learn + convergence test @ 1120 samples accepted.\n",
      "[mcmc]  - Acceptance rate: 0.271\n",
      "[mcmc]  - Convergence of means: R-1 = 0.018247 after 1120 accepted steps\n",
      "[mcmc]  - Updated covariance matrix of proposal pdf.\n",
      "[mcmc] Learn + convergence test @ 1160 samples accepted.\n",
      "[mcmc]  - Acceptance rate: 0.275\n",
      "[mcmc]  - Convergence of means: R-1 = 0.016239 after 1160 accepted steps\n",
      "[mcmc]  - Updated covariance matrix of proposal pdf.\n",
      "[mcmc] Learn + convergence test @ 1200 samples accepted.\n",
      "[mcmc]  - Acceptance rate: 0.276\n",
      "[mcmc]  - Convergence of means: R-1 = 0.017317 after 1200 accepted steps\n",
      "[mcmc]  - Updated covariance matrix of proposal pdf.\n",
      "[mcmc] Learn + convergence test @ 1240 samples accepted.\n",
      "[mcmc]  - Acceptance rate: 0.280\n",
      "[mcmc]  - Convergence of means: R-1 = 0.015239 after 1240 accepted steps\n",
      "[mcmc]  - Updated covariance matrix of proposal pdf.\n",
      "[mcmc] Learn + convergence test @ 1280 samples accepted.\n",
      "[mcmc]  - Acceptance rate: 0.282\n",
      "[mcmc]  - Convergence of means: R-1 = 0.015621 after 1280 accepted steps\n",
      "[mcmc]  - Updated covariance matrix of proposal pdf.\n",
      "[mcmc] Learn + convergence test @ 1320 samples accepted.\n",
      "[mcmc]  - Acceptance rate: 0.286\n",
      "[mcmc]  - Convergence of means: R-1 = 0.010459 after 1320 accepted steps\n",
      "[mcmc]  - Updated covariance matrix of proposal pdf.\n",
      "[mcmc] Learn + convergence test @ 1360 samples accepted.\n",
      "[mcmc]  - Acceptance rate: 0.288\n",
      "[mcmc]  - Convergence of means: R-1 = 0.008162 after 1360 accepted steps\n",
      "[mcmc]  - Updated covariance matrix of proposal pdf.\n",
      "[mcmc] Learn + convergence test @ 1400 samples accepted.\n",
      "[mcmc]  - Acceptance rate: 0.291\n",
      "[mcmc]  - Convergence of means: R-1 = 0.013652 after 1400 accepted steps\n",
      "[mcmc]  - Updated covariance matrix of proposal pdf.\n",
      "[mcmc] Learn + convergence test @ 1440 samples accepted.\n",
      "[mcmc]  - Acceptance rate: 0.294\n",
      "[mcmc]  - Convergence of means: R-1 = 0.009424 after 1440 accepted steps\n",
      "[mcmc]  - Updated covariance matrix of proposal pdf.\n",
      "[mcmc] Learn + convergence test @ 1480 samples accepted.\n",
      "[mcmc]  - Acceptance rate: 0.296\n",
      "[mcmc]  - Convergence of means: R-1 = 0.003725 after 1480 accepted steps\n",
      "[mcmc]  - Updated covariance matrix of proposal pdf.\n",
      "[mcmc] Learn + convergence test @ 1520 samples accepted.\n",
      "[mcmc]  - Acceptance rate: 0.298\n",
      "[mcmc]  - Convergence of means: R-1 = 0.001021 after 1520 accepted steps\n",
      "[mcmc]  - Updated covariance matrix of proposal pdf.\n",
      "[mcmc] Learn + convergence test @ 1560 samples accepted.\n",
      "[mcmc]  - Acceptance rate: 0.301\n",
      "[mcmc]  - Convergence of means: R-1 = 0.001148 after 1560 accepted steps\n",
      "[mcmc]  - Updated covariance matrix of proposal pdf.\n",
      "[mcmc] Learn + convergence test @ 1600 samples accepted.\n",
      "[mcmc]  - Acceptance rate: 0.303\n",
      "[mcmc]  - Convergence of means: R-1 = 0.003491 after 1600 accepted steps\n",
      "[mcmc]  - Updated covariance matrix of proposal pdf.\n",
      "[mcmc] Learn + convergence test @ 1640 samples accepted.\n",
      "[mcmc]  - Acceptance rate: 0.307\n",
      "[mcmc]  - Convergence of means: R-1 = 0.001923 after 1640 accepted steps\n",
      "[mcmc]  - Updated covariance matrix of proposal pdf.\n",
      "[mcmc] Learn + convergence test @ 1680 samples accepted.\n",
      "[mcmc]  - Acceptance rate: 0.310\n",
      "[mcmc]  - Convergence of means: R-1 = 0.009865 after 1680 accepted steps\n",
      "[mcmc]  - Updated covariance matrix of proposal pdf.\n",
      "[mcmc] Learn + convergence test @ 1720 samples accepted.\n",
      "[mcmc]  - Acceptance rate: 0.313\n",
      "[mcmc]  - Convergence of means: R-1 = 0.007604 after 1720 accepted steps\n",
      "[mcmc]  - Updated covariance matrix of proposal pdf.\n",
      "[mcmc] Learn + convergence test @ 1760 samples accepted.\n",
      "[mcmc]  - Acceptance rate: 0.314\n",
      "[mcmc]  - Convergence of means: R-1 = 0.006719 after 1760 accepted steps\n",
      "[mcmc]  - Updated covariance matrix of proposal pdf.\n",
      "[mcmc] Learn + convergence test @ 1800 samples accepted.\n",
      "[mcmc]  - Acceptance rate: 0.316\n",
      "[mcmc]  - Convergence of means: R-1 = 0.007266 after 1800 accepted steps\n",
      "[mcmc]  - Updated covariance matrix of proposal pdf.\n",
      "[mcmc] Learn + convergence test @ 1840 samples accepted.\n",
      "[mcmc]  - Acceptance rate: 0.318\n",
      "[mcmc]  - Convergence of means: R-1 = 0.003968 after 1840 accepted steps\n",
      "[mcmc]  - Updated covariance matrix of proposal pdf.\n",
      "[mcmc] Learn + convergence test @ 1880 samples accepted.\n",
      "[mcmc]  - Acceptance rate: 0.318\n",
      "[mcmc]  - Convergence of means: R-1 = 0.005850 after 1880 accepted steps\n",
      "[mcmc]  - Updated covariance matrix of proposal pdf.\n",
      "[mcmc] Learn + convergence test @ 1920 samples accepted.\n",
      "[mcmc]  - Acceptance rate: 0.320\n",
      "[mcmc]  - Convergence of means: R-1 = 0.012865 after 1920 accepted steps\n",
      "[mcmc]  - Updated covariance matrix of proposal pdf.\n",
      "[mcmc] Learn + convergence test @ 1960 samples accepted.\n",
      "[mcmc]  - Acceptance rate: 0.322\n",
      "[mcmc]  - Convergence of means: R-1 = 0.006419 after 1960 accepted steps\n",
      "[mcmc]  - Updated covariance matrix of proposal pdf.\n",
      "[mcmc] Learn + convergence test @ 2000 samples accepted.\n",
      "[mcmc]  - Acceptance rate: 0.324\n",
      "[mcmc]  - Convergence of means: R-1 = 0.005844 after 2000 accepted steps\n",
      "[mcmc]  - Updated covariance matrix of proposal pdf.\n",
      "[mcmc] Learn + convergence test @ 2040 samples accepted.\n",
      "[mcmc]  - Acceptance rate: 0.327\n",
      "[mcmc]  - Convergence of means: R-1 = 0.003865 after 2040 accepted steps\n",
      "[mcmc]  - Updated covariance matrix of proposal pdf.\n",
      "[mcmc] Learn + convergence test @ 2080 samples accepted.\n",
      "[mcmc]  - Acceptance rate: 0.328\n",
      "[mcmc]  - Convergence of means: R-1 = 0.005739 after 2080 accepted steps\n",
      "[mcmc]  - Updated covariance matrix of proposal pdf.\n",
      "[mcmc] Learn + convergence test @ 2120 samples accepted.\n",
      "[mcmc]  - Acceptance rate: 0.330\n",
      "[mcmc]  - Convergence of means: R-1 = 0.012651 after 2120 accepted steps\n",
      "[mcmc]  - Updated covariance matrix of proposal pdf.\n",
      "[mcmc] Learn + convergence test @ 2160 samples accepted.\n",
      "[mcmc]  - Acceptance rate: 0.332\n",
      "[mcmc]  - Convergence of means: R-1 = 0.006868 after 2160 accepted steps\n",
      "[mcmc]  - Updated covariance matrix of proposal pdf.\n",
      "[mcmc] Learn + convergence test @ 2200 samples accepted.\n",
      "[mcmc]  - Acceptance rate: 0.334\n",
      "[mcmc]  - Convergence of means: R-1 = 0.010495 after 2200 accepted steps\n",
      "[mcmc]  - Updated covariance matrix of proposal pdf.\n",
      "[mcmc] Learn + convergence test @ 2240 samples accepted.\n",
      "[mcmc]  - Acceptance rate: 0.335\n",
      "[mcmc]  - Convergence of means: R-1 = 0.012235 after 2240 accepted steps\n",
      "[mcmc]  - Updated covariance matrix of proposal pdf.\n",
      "[mcmc] Learn + convergence test @ 2280 samples accepted.\n",
      "[mcmc]  - Acceptance rate: 0.337\n",
      "[mcmc]  - Convergence of means: R-1 = 0.011471 after 2280 accepted steps\n",
      "[mcmc]  - Updated covariance matrix of proposal pdf.\n",
      "[mcmc] Learn + convergence test @ 2320 samples accepted.\n",
      "[mcmc]  - Acceptance rate: 0.337\n",
      "[mcmc]  - Convergence of means: R-1 = 0.005776 after 2320 accepted steps\n",
      "[mcmc]  - Updated covariance matrix of proposal pdf.\n",
      "[mcmc] Learn + convergence test @ 2360 samples accepted.\n",
      "[mcmc]  - Acceptance rate: 0.339\n",
      "[mcmc]  - Convergence of means: R-1 = 0.004967 after 2360 accepted steps\n",
      "[mcmc]  - Updated covariance matrix of proposal pdf.\n",
      "[mcmc] Learn + convergence test @ 2400 samples accepted.\n",
      "[mcmc]  - Acceptance rate: 0.340\n",
      "[mcmc]  - Convergence of means: R-1 = 0.003404 after 2400 accepted steps\n",
      "[mcmc]  - Updated covariance matrix of proposal pdf.\n",
      "[mcmc] Learn + convergence test @ 2440 samples accepted.\n",
      "[mcmc]  - Acceptance rate: 0.341\n",
      "[mcmc]  - Convergence of means: R-1 = 0.005297 after 2440 accepted steps\n",
      "[mcmc]  - Updated covariance matrix of proposal pdf.\n",
      "[mcmc] Learn + convergence test @ 2480 samples accepted.\n",
      "[mcmc]  - Acceptance rate: 0.342\n",
      "[mcmc]  - Convergence of means: R-1 = 0.005181 after 2480 accepted steps\n",
      "[mcmc]  - Updated covariance matrix of proposal pdf.\n",
      "[mcmc] Learn + convergence test @ 2520 samples accepted.\n",
      "[mcmc]  - Acceptance rate: 0.343\n",
      "[mcmc]  - Convergence of means: R-1 = 0.004365 after 2520 accepted steps\n",
      "[mcmc]  - Updated covariance matrix of proposal pdf.\n",
      "[mcmc] Learn + convergence test @ 2560 samples accepted.\n",
      "[mcmc]  - Acceptance rate: 0.345\n",
      "[mcmc]  - Convergence of means: R-1 = 0.002198 after 2560 accepted steps\n",
      "[mcmc]  - Updated covariance matrix of proposal pdf.\n",
      "[mcmc] Learn + convergence test @ 2600 samples accepted.\n",
      "[mcmc]  - Acceptance rate: 0.346\n",
      "[mcmc]  - Convergence of means: R-1 = 0.001884 after 2600 accepted steps\n",
      "[mcmc]  - Updated covariance matrix of proposal pdf.\n",
      "[mcmc] Learn + convergence test @ 2640 samples accepted.\n",
      "[mcmc]  - Acceptance rate: 0.348\n",
      "[mcmc]  - Convergence of means: R-1 = 0.000572 after 2640 accepted steps\n",
      "[mcmc]  - Updated covariance matrix of proposal pdf.\n",
      "[mcmc] Learn + convergence test @ 2680 samples accepted.\n",
      "[mcmc]  - Acceptance rate: 0.348\n",
      "[mcmc]  - Convergence of means: R-1 = 0.003175 after 2680 accepted steps\n",
      "[mcmc]  - Updated covariance matrix of proposal pdf.\n",
      "[mcmc] Learn + convergence test @ 2720 samples accepted.\n",
      "[mcmc]  - Acceptance rate: 0.349\n",
      "[mcmc]  - Convergence of means: R-1 = 0.002080 after 2720 accepted steps\n",
      "[mcmc]  - Updated covariance matrix of proposal pdf.\n",
      "[mcmc] Learn + convergence test @ 2760 samples accepted.\n",
      "[mcmc]  - Acceptance rate: 0.351\n",
      "[mcmc]  - Convergence of means: R-1 = 0.003609 after 2760 accepted steps\n",
      "[mcmc]  - Updated covariance matrix of proposal pdf.\n",
      "[mcmc] Learn + convergence test @ 2800 samples accepted.\n",
      "[mcmc]  - Acceptance rate: 0.351\n",
      "[mcmc]  - Convergence of means: R-1 = 0.006345 after 2800 accepted steps\n",
      "[mcmc]  - Updated covariance matrix of proposal pdf.\n",
      "[mcmc] Learn + convergence test @ 2840 samples accepted.\n",
      "[mcmc]  - Acceptance rate: 0.353\n",
      "[mcmc]  - Convergence of means: R-1 = 0.008108 after 2840 accepted steps\n",
      "[mcmc]  - Updated covariance matrix of proposal pdf.\n",
      "[mcmc] Learn + convergence test @ 2880 samples accepted.\n",
      "[mcmc]  - Acceptance rate: 0.352\n",
      "[mcmc]  - Convergence of means: R-1 = 0.005448 after 2880 accepted steps\n",
      "[mcmc]  - Updated covariance matrix of proposal pdf.\n",
      "[mcmc] Learn + convergence test @ 2920 samples accepted.\n",
      "[mcmc]  - Acceptance rate: 0.353\n",
      "[mcmc]  - Convergence of means: R-1 = 0.010886 after 2920 accepted steps\n",
      "[mcmc]  - Updated covariance matrix of proposal pdf.\n",
      "[mcmc] Learn + convergence test @ 2960 samples accepted.\n",
      "[mcmc]  - Acceptance rate: 0.354\n",
      "[mcmc]  - Convergence of means: R-1 = 0.008321 after 2960 accepted steps\n",
      "[mcmc]  - Updated covariance matrix of proposal pdf.\n",
      "[mcmc] Learn + convergence test @ 3000 samples accepted.\n",
      "[mcmc]  - Acceptance rate: 0.355\n",
      "[mcmc]  - Convergence of means: R-1 = 0.008041 after 3000 accepted steps\n",
      "[mcmc]  - Updated covariance matrix of proposal pdf.\n",
      "[mcmc] Learn + convergence test @ 3040 samples accepted.\n",
      "[mcmc]  - Acceptance rate: 0.356\n",
      "[mcmc]  - Convergence of means: R-1 = 0.008494 after 3040 accepted steps\n",
      "[mcmc]  - Updated covariance matrix of proposal pdf.\n",
      "[mcmc] Learn + convergence test @ 3080 samples accepted.\n",
      "[mcmc]  - Acceptance rate: 0.358\n",
      "[mcmc]  - Convergence of means: R-1 = 0.005547 after 3080 accepted steps\n",
      "[mcmc]  - Updated covariance matrix of proposal pdf.\n",
      "[mcmc] Learn + convergence test @ 3120 samples accepted.\n",
      "[mcmc]  - Acceptance rate: 0.358\n",
      "[mcmc]  - Convergence of means: R-1 = 0.005015 after 3120 accepted steps\n",
      "[mcmc]  - Updated covariance matrix of proposal pdf.\n",
      "[mcmc] Learn + convergence test @ 3160 samples accepted.\n",
      "[mcmc]  - Acceptance rate: 0.359\n",
      "[mcmc]  - Convergence of means: R-1 = 0.003323 after 3160 accepted steps\n",
      "[mcmc]  - Updated covariance matrix of proposal pdf.\n",
      "[mcmc] Learn + convergence test @ 3200 samples accepted.\n",
      "[mcmc]  - Acceptance rate: 0.359\n",
      "[mcmc]  - Convergence of means: R-1 = 0.000906 after 3200 accepted steps\n",
      "[mcmc]  - Updated covariance matrix of proposal pdf.\n",
      "[mcmc] Learn + convergence test @ 3240 samples accepted.\n",
      "[mcmc]  - Acceptance rate: 0.359\n",
      "[mcmc]  - Convergence of means: R-1 = 0.001965 after 3240 accepted steps\n",
      "[mcmc]  - Updated covariance matrix of proposal pdf.\n",
      "[mcmc] Learn + convergence test @ 3280 samples accepted.\n",
      "[mcmc]  - Acceptance rate: 0.359\n",
      "[mcmc]  - Convergence of means: R-1 = 0.001587 after 3280 accepted steps\n",
      "[mcmc]  - Updated covariance matrix of proposal pdf.\n",
      "[mcmc] Learn + convergence test @ 3320 samples accepted.\n",
      "[mcmc]  - Acceptance rate: 0.360\n",
      "[mcmc]  - Convergence of means: R-1 = 0.002825 after 3320 accepted steps\n",
      "[mcmc]  - Updated covariance matrix of proposal pdf.\n",
      "[mcmc] Learn + convergence test @ 3360 samples accepted.\n",
      "[mcmc]  - Acceptance rate: 0.361\n",
      "[mcmc]  - Convergence of means: R-1 = 0.006781 after 3360 accepted steps\n",
      "[mcmc]  - Updated covariance matrix of proposal pdf.\n",
      "[mcmc] Learn + convergence test @ 3400 samples accepted.\n",
      "[mcmc]  - Acceptance rate: 0.361\n",
      "[mcmc]  - Convergence of means: R-1 = 0.006379 after 3400 accepted steps\n",
      "[mcmc]  - Updated covariance matrix of proposal pdf.\n",
      "[mcmc] Learn + convergence test @ 3440 samples accepted.\n",
      "[mcmc]  - Acceptance rate: 0.362\n",
      "[mcmc]  - Convergence of means: R-1 = 0.006918 after 3440 accepted steps\n",
      "[mcmc]  - Updated covariance matrix of proposal pdf.\n",
      "[mcmc] Learn + convergence test @ 3480 samples accepted.\n",
      "[mcmc]  - Acceptance rate: 0.362\n",
      "[mcmc]  - Convergence of means: R-1 = 0.006898 after 3480 accepted steps\n",
      "[mcmc]  - Updated covariance matrix of proposal pdf.\n",
      "[mcmc] Learn + convergence test @ 3520 samples accepted.\n",
      "[mcmc]  - Acceptance rate: 0.363\n",
      "[mcmc]  - Convergence of means: R-1 = 0.006775 after 3520 accepted steps\n",
      "[mcmc]  - Updated covariance matrix of proposal pdf.\n",
      "[mcmc] Learn + convergence test @ 3560 samples accepted.\n",
      "[mcmc]  - Acceptance rate: 0.364\n",
      "[mcmc]  - Convergence of means: R-1 = 0.009948 after 3560 accepted steps\n",
      "[mcmc]  - Updated covariance matrix of proposal pdf.\n",
      "[mcmc] Learn + convergence test @ 3600 samples accepted.\n",
      "[mcmc]  - Acceptance rate: 0.365\n",
      "[mcmc]  - Convergence of means: R-1 = 0.008693 after 3600 accepted steps\n",
      "[mcmc]  - Updated covariance matrix of proposal pdf.\n",
      "[mcmc] Learn + convergence test @ 3640 samples accepted.\n",
      "[mcmc]  - Acceptance rate: 0.366\n",
      "[mcmc]  - Convergence of means: R-1 = 0.009356 after 3640 accepted steps\n",
      "[mcmc]  - Updated covariance matrix of proposal pdf.\n",
      "[mcmc] Learn + convergence test @ 3680 samples accepted.\n",
      "[mcmc]  - Acceptance rate: 0.367\n",
      "[mcmc]  - Convergence of means: R-1 = 0.008516 after 3680 accepted steps\n",
      "[mcmc]  - Updated covariance matrix of proposal pdf.\n",
      "[mcmc] Learn + convergence test @ 3720 samples accepted.\n",
      "[mcmc]  - Acceptance rate: 0.368\n",
      "[mcmc]  - Convergence of means: R-1 = 0.008770 after 3720 accepted steps\n",
      "[mcmc]  - Updated covariance matrix of proposal pdf.\n",
      "[mcmc] Learn + convergence test @ 3760 samples accepted.\n",
      "[mcmc]  - Acceptance rate: 0.369\n",
      "[mcmc]  - Convergence of means: R-1 = 0.006872 after 3760 accepted steps\n",
      "[mcmc]  - Updated covariance matrix of proposal pdf.\n",
      "[mcmc] Learn + convergence test @ 3800 samples accepted.\n",
      "[mcmc]  - Acceptance rate: 0.370\n",
      "[mcmc]  - Convergence of means: R-1 = 0.009452 after 3800 accepted steps\n",
      "[mcmc]  - Updated covariance matrix of proposal pdf.\n",
      "[mcmc] Learn + convergence test @ 3840 samples accepted.\n",
      "[mcmc]  - Acceptance rate: 0.371\n",
      "[mcmc]  - Convergence of means: R-1 = 0.008104 after 3840 accepted steps\n",
      "[mcmc]  - Updated covariance matrix of proposal pdf.\n",
      "[mcmc] Learn + convergence test @ 3880 samples accepted.\n",
      "[mcmc]  - Acceptance rate: 0.371\n",
      "[mcmc]  - Convergence of means: R-1 = 0.008300 after 3880 accepted steps\n",
      "[mcmc]  - Updated covariance matrix of proposal pdf.\n",
      "[mcmc] Learn + convergence test @ 3920 samples accepted.\n",
      "[mcmc]  - Acceptance rate: 0.372\n",
      "[mcmc]  - Convergence of means: R-1 = 0.008190 after 3920 accepted steps\n",
      "[mcmc]  - Updated covariance matrix of proposal pdf.\n",
      "[mcmc] Learn + convergence test @ 3960 samples accepted.\n",
      "[mcmc]  - Acceptance rate: 0.372\n",
      "[mcmc]  - Convergence of means: R-1 = 0.006527 after 3960 accepted steps\n",
      "[mcmc]  - Updated covariance matrix of proposal pdf.\n",
      "[mcmc] Learn + convergence test @ 4000 samples accepted.\n",
      "[mcmc]  - Acceptance rate: 0.373\n",
      "[mcmc]  - Convergence of means: R-1 = 0.007389 after 4000 accepted steps\n",
      "[mcmc]  - Updated covariance matrix of proposal pdf.\n",
      "[mcmc] Learn + convergence test @ 4040 samples accepted.\n",
      "[mcmc]  - Acceptance rate: 0.373\n",
      "[mcmc]  - Convergence of means: R-1 = 0.005876 after 4040 accepted steps\n",
      "[mcmc]  - Updated covariance matrix of proposal pdf.\n",
      "[mcmc] Learn + convergence test @ 4080 samples accepted.\n",
      "[mcmc]  - Acceptance rate: 0.374\n",
      "[mcmc]  - Convergence of means: R-1 = 0.004716 after 4080 accepted steps\n",
      "[mcmc]  - Updated covariance matrix of proposal pdf.\n",
      "[mcmc] Learn + convergence test @ 4120 samples accepted.\n",
      "[mcmc]  - Acceptance rate: 0.374\n",
      "[mcmc]  - Convergence of means: R-1 = 0.004552 after 4120 accepted steps\n",
      "[mcmc]  - Updated covariance matrix of proposal pdf.\n",
      "[mcmc] Learn + convergence test @ 4160 samples accepted.\n",
      "[mcmc]  - Acceptance rate: 0.374\n",
      "[mcmc]  - Convergence of means: R-1 = 0.006567 after 4160 accepted steps\n",
      "[mcmc]  - Updated covariance matrix of proposal pdf.\n",
      "[mcmc] Learn + convergence test @ 4200 samples accepted.\n",
      "[mcmc]  - Acceptance rate: 0.374\n",
      "[mcmc]  - Convergence of means: R-1 = 0.005417 after 4200 accepted steps\n",
      "[mcmc]  - Updated covariance matrix of proposal pdf.\n",
      "[mcmc] Learn + convergence test @ 4240 samples accepted.\n",
      "[mcmc]  - Acceptance rate: 0.375\n",
      "[mcmc]  - Convergence of means: R-1 = 0.004766 after 4240 accepted steps\n",
      "[mcmc]  - Updated covariance matrix of proposal pdf.\n",
      "[mcmc] Learn + convergence test @ 4280 samples accepted.\n",
      "[mcmc]  - Acceptance rate: 0.375\n",
      "[mcmc]  - Convergence of means: R-1 = 0.003203 after 4280 accepted steps\n",
      "[mcmc]  - Updated covariance matrix of proposal pdf.\n",
      "[mcmc] Learn + convergence test @ 4320 samples accepted.\n",
      "[mcmc]  - Acceptance rate: 0.375\n",
      "[mcmc]  - Convergence of means: R-1 = 0.003626 after 4320 accepted steps\n",
      "[mcmc]  - Updated covariance matrix of proposal pdf.\n",
      "[mcmc] Learn + convergence test @ 4360 samples accepted.\n",
      "[mcmc]  - Acceptance rate: 0.376\n",
      "[mcmc]  - Convergence of means: R-1 = 0.003934 after 4360 accepted steps\n",
      "[mcmc]  - Updated covariance matrix of proposal pdf.\n",
      "[mcmc] Learn + convergence test @ 4400 samples accepted.\n",
      "[mcmc]  - Acceptance rate: 0.376\n",
      "[mcmc]  - Convergence of means: R-1 = 0.003196 after 4400 accepted steps\n",
      "[mcmc]  - Updated covariance matrix of proposal pdf.\n",
      "[mcmc] Learn + convergence test @ 4440 samples accepted.\n",
      "[mcmc]  - Acceptance rate: 0.376\n",
      "[mcmc]  - Convergence of means: R-1 = 0.004025 after 4440 accepted steps\n",
      "[mcmc]  - Updated covariance matrix of proposal pdf.\n",
      "[mcmc] Learn + convergence test @ 4480 samples accepted.\n",
      "[mcmc]  - Acceptance rate: 0.377\n",
      "[mcmc]  - Convergence of means: R-1 = 0.005459 after 4480 accepted steps\n",
      "[mcmc]  - Updated covariance matrix of proposal pdf.\n",
      "[mcmc] Learn + convergence test @ 4520 samples accepted.\n",
      "[mcmc]  - Acceptance rate: 0.377\n",
      "[mcmc]  - Convergence of means: R-1 = 0.005208 after 4520 accepted steps\n",
      "[mcmc]  - Updated covariance matrix of proposal pdf.\n",
      "[mcmc] Learn + convergence test @ 4560 samples accepted.\n",
      "[mcmc]  - Acceptance rate: 0.377\n",
      "[mcmc]  - Convergence of means: R-1 = 0.006807 after 4560 accepted steps\n",
      "[mcmc]  - Updated covariance matrix of proposal pdf.\n",
      "[mcmc] Learn + convergence test @ 4600 samples accepted.\n",
      "[mcmc]  - Acceptance rate: 0.377\n",
      "[mcmc]  - Convergence of means: R-1 = 0.007735 after 4600 accepted steps\n",
      "[mcmc]  - Updated covariance matrix of proposal pdf.\n",
      "[mcmc] Learn + convergence test @ 4640 samples accepted.\n",
      "[mcmc]  - Acceptance rate: 0.378\n",
      "[mcmc]  - Convergence of means: R-1 = 0.007660 after 4640 accepted steps\n",
      "[mcmc]  - Updated covariance matrix of proposal pdf.\n",
      "[mcmc] Learn + convergence test @ 4680 samples accepted.\n",
      "[mcmc]  - Acceptance rate: 0.379\n",
      "[mcmc]  - Convergence of means: R-1 = 0.004488 after 4680 accepted steps\n",
      "[mcmc]  - Updated covariance matrix of proposal pdf.\n",
      "[mcmc] Learn + convergence test @ 4720 samples accepted.\n",
      "[mcmc]  - Acceptance rate: 0.380\n",
      "[mcmc]  - Convergence of means: R-1 = 0.004901 after 4720 accepted steps\n",
      "[mcmc]  - Updated covariance matrix of proposal pdf.\n",
      "[mcmc] Learn + convergence test @ 4760 samples accepted.\n",
      "[mcmc]  - Acceptance rate: 0.380\n",
      "[mcmc]  - Convergence of means: R-1 = 0.007672 after 4760 accepted steps\n",
      "[mcmc]  - Updated covariance matrix of proposal pdf.\n",
      "[mcmc] Learn + convergence test @ 4800 samples accepted.\n",
      "[mcmc]  - Acceptance rate: 0.381\n",
      "[mcmc]  - Convergence of means: R-1 = 0.004385 after 4800 accepted steps\n",
      "[mcmc]  - Updated covariance matrix of proposal pdf.\n",
      "[mcmc] Learn + convergence test @ 4840 samples accepted.\n",
      "[mcmc]  - Acceptance rate: 0.381\n",
      "[mcmc]  - Convergence of means: R-1 = 0.004485 after 4840 accepted steps\n",
      "[mcmc]  - Updated covariance matrix of proposal pdf.\n",
      "[mcmc] Learn + convergence test @ 4880 samples accepted.\n",
      "[mcmc]  - Acceptance rate: 0.382\n",
      "[mcmc]  - Convergence of means: R-1 = 0.002930 after 4880 accepted steps\n",
      "[mcmc]  - Updated covariance matrix of proposal pdf.\n",
      "[mcmc] Learn + convergence test @ 4920 samples accepted.\n",
      "[mcmc]  - Acceptance rate: 0.383\n",
      "[mcmc]  - Convergence of means: R-1 = 0.002913 after 4920 accepted steps\n",
      "[mcmc]  - Updated covariance matrix of proposal pdf.\n",
      "[mcmc] Learn + convergence test @ 4960 samples accepted.\n",
      "[mcmc]  - Acceptance rate: 0.383\n",
      "[mcmc]  - Convergence of means: R-1 = 0.002414 after 4960 accepted steps\n",
      "[mcmc]  - Updated covariance matrix of proposal pdf.\n",
      "[mcmc] Learn + convergence test @ 5000 samples accepted.\n",
      "[mcmc]  - Acceptance rate: 0.383\n",
      "[mcmc]  - Convergence of means: R-1 = 0.001620 after 5000 accepted steps\n",
      "[mcmc]  - Updated covariance matrix of proposal pdf.\n",
      "[mcmc] Learn + convergence test @ 5040 samples accepted.\n",
      "[mcmc]  - Acceptance rate: 0.383\n",
      "[mcmc]  - Convergence of means: R-1 = 0.001162 after 5040 accepted steps\n",
      "[mcmc]  - Updated covariance matrix of proposal pdf.\n",
      "[mcmc] Learn + convergence test @ 5080 samples accepted.\n",
      "[mcmc]  - Acceptance rate: 0.384\n",
      "[mcmc]  - Convergence of means: R-1 = 0.000537 after 5080 accepted steps\n",
      "[mcmc]  - Updated covariance matrix of proposal pdf.\n",
      "[mcmc] Learn + convergence test @ 5120 samples accepted.\n",
      "[mcmc]  - Acceptance rate: 0.384\n",
      "[mcmc]  - Convergence of means: R-1 = 0.000660 after 5120 accepted steps\n",
      "[mcmc]  - Convergence of bounds: R-1 = 0.027663 after 5120 accepted steps\n",
      "[mcmc] The run has converged!\n",
      "[mcmc] Sampling complete after 5120 accepted steps.\n",
      "[root] *WARNING* outlier fraction 0.003125 \n"
     ]
    },
    {
     "data": {
      "text/plain": "<Figure size 360x360 with 1 Axes>",
      "image/png": "[encoded data removed]"
     },
     "metadata": {
      "needs_background": "light"
     },
     "output_type": "display_data"
    }
   ],
   "source": [
    "baseline_model_order  =  1\n",
    "baseline_model_keys =  tuple('q'+str(i) for i in range(baseline_model_order))\n",
    "baseline_model_ranges = dict((k,(-1,1)) for k in baseline_model_keys)\n",
    "\n",
    "exec(\"def get_baseline_polynomial_vals(\" + \",\".join(baseline_model_keys) + \"): return np.polynomial.Polynomial([\"+\",\".join(baseline_model_keys)+\"])(sample_points)\")\n",
    "\n",
    "exec(\"def baseline_noisy_data_logp(\" + \",\".join(baseline_model_keys) + \"): return stats.multivariate_normal.logpdf(get_baseline_polynomial_vals(\" + \",\".join(baseline_model_keys) + \"), mean=sample_observed, cov=sample_std_dev)\")\n",
    "\n",
    "baseline_likelihood_info = {'noisy_data_like': baseline_noisy_data_logp}\n",
    "baseline_params_info = {k: {\"prior\": {\"min\": -1, \"max\": 1}} for k in baseline_model_keys}\n",
    "baseline_sampler_info = {'mcmc':{'Rminus1_stop': 0.001, 'max_tries':1000}}\n",
    "baseline_info = {'likelihood':baseline_likelihood_info,\n",
    "        'params':baseline_params_info,\n",
    "        'sampler':baseline_sampler_info}\n",
    "\n",
    "baseline_updated_info, baseline_sampler = run(baseline_info)\n",
    "baseline_gdsamples = MCSamplesFromCobaya(baseline_updated_info, baseline_sampler.products()[\"sample\"])\n",
    "gdplot = gdplt.get_subplot_plotter(width_inch=5)\n",
    "gdplot.triangle_plot(baseline_gdsamples, baseline_model_keys, filled=True)\n",
    "\n",
    "baseline_bestfit =  baseline_gdsamples.getParamSampleDict(np.argmin(baseline_gdsamples.loglikes))"
   ],
   "metadata": {
    "collapsed": false,
    "pycharm": {
     "name": "#%%\n"
    }
   }
  },
  {
   "cell_type": "code",
   "execution_count": 5,
   "outputs": [],
   "source": [
    "extnd_model_order  =  pert_max+1\n",
    "extnd_model_keys =  tuple('q'+str(i) for i in range(extnd_model_order))\n",
    "extnd_model_ranges = dict((k,(-1,1)) for k in extnd_model_keys)\n",
    "\n",
    "exec(\"def get_extnd_polynomial_vals(\" + \",\".join(extnd_model_keys) + \"): return np.polynomial.Polynomial([\"+\",\".join(extnd_model_keys)+\"])(sample_points)\")\n",
    "\n",
    "exec(\"def extnd_noisy_data_logp(\" + \",\".join(extnd_model_keys) + \"): return stats.multivariate_normal.logpdf(get_extnd_polynomial_vals(\" + \",\".join(extnd_model_keys) + \"), mean=sample_observed, cov=sample_std_dev)\")"
   ],
   "metadata": {
    "collapsed": false,
    "pycharm": {
     "name": "#%%\n"
    }
   }
  },
  {
   "cell_type": "code",
   "execution_count": 6,
   "outputs": [
    {
     "name": "stdout",
     "output_type": "stream",
     "text": [
      "[noisy_data_like] Initialized external likelihood.\n",
      "[mcmc] Getting initial point... (this may take a few seconds)\n",
      "[prior] Reference values or pdf's for some parameters were not provided. Sampling from the prior instead for those parameters.\n",
      "[model] Measuring speeds... (this may take a few seconds)\n",
      "[model] Setting measured speeds (per sec): {noisy_data_like: 1390.0}\n",
      "[prior] *WARNING* Reference pdf not defined or improper for some parameters. Using prior's sigma instead for them.\n",
      "[mcmc] Covariance matrix not present. We will start learning the covariance of the proposal earlier: R-1 = 30 (would be 2 if all params loaded).\n",
      "[mcmc] Initial point: q0:0.03900167, q1:0.8779435, q2:0.8029214\n",
      "[mcmc] Sampling!\n",
      "[mcmc] Progress @ 2022-03-05 16:50:22 : 1 steps taken, and 0 accepted.\n",
      "[mcmc] Learn + convergence test @ 120 samples accepted.\n",
      "[mcmc]  - Acceptance rate: 0.014\n",
      "[mcmc]  - Convergence of means: R-1 = 0.438809 after 120 accepted steps\n",
      "[mcmc]  - Updated covariance matrix of proposal pdf.\n",
      "[mcmc] Learn + convergence test @ 240 samples accepted.\n",
      "[mcmc]  - Acceptance rate: 0.027\n",
      "[mcmc]  - Convergence of means: R-1 = 0.622064 after 240 accepted steps\n",
      "[mcmc]  - Updated covariance matrix of proposal pdf.\n",
      "[mcmc] Learn + convergence test @ 360 samples accepted.\n",
      "[mcmc]  - Acceptance rate: 0.039\n",
      "[mcmc]  - Convergence of means: R-1 = 0.215773 after 360 accepted steps\n",
      "[mcmc]  - Updated covariance matrix of proposal pdf.\n",
      "[mcmc] Learn + convergence test @ 480 samples accepted.\n",
      "[mcmc]  - Acceptance rate: 0.049\n",
      "[mcmc]  - Convergence of means: R-1 = 0.262654 after 480 accepted steps\n",
      "[mcmc]  - Updated covariance matrix of proposal pdf.\n",
      "[mcmc] Learn + convergence test @ 600 samples accepted.\n",
      "[mcmc]  - Acceptance rate: 0.059\n",
      "[mcmc]  - Convergence of means: R-1 = 0.063600 after 600 accepted steps\n",
      "[mcmc]  - Updated covariance matrix of proposal pdf.\n",
      "[mcmc] Learn + convergence test @ 720 samples accepted.\n",
      "[mcmc]  - Acceptance rate: 0.068\n",
      "[mcmc]  - Convergence of means: R-1 = 0.089939 after 720 accepted steps\n",
      "[mcmc]  - Updated covariance matrix of proposal pdf.\n",
      "[mcmc] Learn + convergence test @ 840 samples accepted.\n",
      "[mcmc]  - Acceptance rate: 0.077\n",
      "[mcmc]  - Convergence of means: R-1 = 0.131720 after 840 accepted steps\n",
      "[mcmc]  - Updated covariance matrix of proposal pdf.\n",
      "[mcmc] Learn + convergence test @ 960 samples accepted.\n",
      "[mcmc]  - Acceptance rate: 0.085\n",
      "[mcmc]  - Convergence of means: R-1 = 0.090594 after 960 accepted steps\n",
      "[mcmc]  - Updated covariance matrix of proposal pdf.\n",
      "[mcmc] Learn + convergence test @ 1080 samples accepted.\n",
      "[mcmc]  - Acceptance rate: 0.093\n",
      "[mcmc]  - Convergence of means: R-1 = 0.077569 after 1080 accepted steps\n",
      "[mcmc]  - Updated covariance matrix of proposal pdf.\n",
      "[mcmc] Learn + convergence test @ 1200 samples accepted.\n",
      "[mcmc]  - Acceptance rate: 0.100\n",
      "[mcmc]  - Convergence of means: R-1 = 0.049353 after 1200 accepted steps\n",
      "[mcmc]  - Updated covariance matrix of proposal pdf.\n",
      "[mcmc] Learn + convergence test @ 1320 samples accepted.\n",
      "[mcmc]  - Acceptance rate: 0.106\n",
      "[mcmc]  - Convergence of means: R-1 = 0.058886 after 1320 accepted steps\n",
      "[mcmc]  - Updated covariance matrix of proposal pdf.\n",
      "[mcmc] Learn + convergence test @ 1440 samples accepted.\n",
      "[mcmc]  - Acceptance rate: 0.112\n",
      "[mcmc]  - Convergence of means: R-1 = 0.063812 after 1440 accepted steps\n",
      "[mcmc]  - Updated covariance matrix of proposal pdf.\n",
      "[mcmc] Learn + convergence test @ 1560 samples accepted.\n",
      "[mcmc]  - Acceptance rate: 0.118\n",
      "[mcmc]  - Convergence of means: R-1 = 0.041065 after 1560 accepted steps\n",
      "[mcmc]  - Updated covariance matrix of proposal pdf.\n",
      "[mcmc] Learn + convergence test @ 1680 samples accepted.\n",
      "[mcmc]  - Acceptance rate: 0.123\n",
      "[mcmc]  - Convergence of means: R-1 = 0.006591 after 1680 accepted steps\n",
      "[mcmc]  - Updated covariance matrix of proposal pdf.\n",
      "[mcmc] Learn + convergence test @ 1800 samples accepted.\n",
      "[mcmc]  - Acceptance rate: 0.129\n",
      "[mcmc]  - Convergence of means: R-1 = 0.008915 after 1800 accepted steps\n",
      "[mcmc]  - Updated covariance matrix of proposal pdf.\n",
      "[mcmc] Learn + convergence test @ 1920 samples accepted.\n",
      "[mcmc]  - Acceptance rate: 0.134\n",
      "[mcmc]  - Convergence of means: R-1 = 0.019365 after 1920 accepted steps\n",
      "[mcmc]  - Updated covariance matrix of proposal pdf.\n",
      "[mcmc] Learn + convergence test @ 2040 samples accepted.\n",
      "[mcmc]  - Acceptance rate: 0.138\n",
      "[mcmc]  - Convergence of means: R-1 = 0.027607 after 2040 accepted steps\n",
      "[mcmc]  - Updated covariance matrix of proposal pdf.\n",
      "[mcmc] Learn + convergence test @ 2160 samples accepted.\n",
      "[mcmc]  - Acceptance rate: 0.142\n",
      "[mcmc]  - Convergence of means: R-1 = 0.031772 after 2160 accepted steps\n",
      "[mcmc]  - Updated covariance matrix of proposal pdf.\n",
      "[mcmc] Learn + convergence test @ 2280 samples accepted.\n",
      "[mcmc]  - Acceptance rate: 0.147\n",
      "[mcmc]  - Convergence of means: R-1 = 0.022356 after 2280 accepted steps\n",
      "[mcmc]  - Updated covariance matrix of proposal pdf.\n",
      "[mcmc] Learn + convergence test @ 2400 samples accepted.\n",
      "[mcmc]  - Acceptance rate: 0.150\n",
      "[mcmc]  - Convergence of means: R-1 = 0.014795 after 2400 accepted steps\n",
      "[mcmc]  - Updated covariance matrix of proposal pdf.\n",
      "[mcmc] Learn + convergence test @ 2520 samples accepted.\n",
      "[mcmc]  - Acceptance rate: 0.154\n",
      "[mcmc]  - Convergence of means: R-1 = 0.010501 after 2520 accepted steps\n",
      "[mcmc]  - Updated covariance matrix of proposal pdf.\n",
      "[mcmc] Learn + convergence test @ 2640 samples accepted.\n",
      "[mcmc]  - Acceptance rate: 0.158\n",
      "[mcmc]  - Convergence of means: R-1 = 0.008631 after 2640 accepted steps\n",
      "[mcmc]  - Updated covariance matrix of proposal pdf.\n",
      "[mcmc] Learn + convergence test @ 2760 samples accepted.\n",
      "[mcmc]  - Acceptance rate: 0.161\n",
      "[mcmc]  - Convergence of means: R-1 = 0.006602 after 2760 accepted steps\n",
      "[mcmc]  - Updated covariance matrix of proposal pdf.\n",
      "[mcmc] Learn + convergence test @ 2880 samples accepted.\n",
      "[mcmc]  - Acceptance rate: 0.164\n",
      "[mcmc]  - Convergence of means: R-1 = 0.013194 after 2880 accepted steps\n",
      "[mcmc]  - Updated covariance matrix of proposal pdf.\n",
      "[mcmc] Learn + convergence test @ 3000 samples accepted.\n",
      "[mcmc]  - Acceptance rate: 0.167\n",
      "[mcmc]  - Convergence of means: R-1 = 0.016682 after 3000 accepted steps\n",
      "[mcmc]  - Updated covariance matrix of proposal pdf.\n",
      "[mcmc] Learn + convergence test @ 3120 samples accepted.\n",
      "[mcmc]  - Acceptance rate: 0.170\n",
      "[mcmc]  - Convergence of means: R-1 = 0.010874 after 3120 accepted steps\n",
      "[mcmc]  - Updated covariance matrix of proposal pdf.\n",
      "[mcmc] Learn + convergence test @ 3240 samples accepted.\n",
      "[mcmc]  - Acceptance rate: 0.172\n",
      "[mcmc]  - Convergence of means: R-1 = 0.007007 after 3240 accepted steps\n",
      "[mcmc]  - Updated covariance matrix of proposal pdf.\n",
      "[mcmc] Learn + convergence test @ 3360 samples accepted.\n",
      "[mcmc]  - Acceptance rate: 0.175\n",
      "[mcmc]  - Convergence of means: R-1 = 0.006033 after 3360 accepted steps\n",
      "[mcmc]  - Updated covariance matrix of proposal pdf.\n",
      "[mcmc] Learn + convergence test @ 3480 samples accepted.\n",
      "[mcmc]  - Acceptance rate: 0.176\n",
      "[mcmc]  - Convergence of means: R-1 = 0.007614 after 3480 accepted steps\n",
      "[mcmc]  - Updated covariance matrix of proposal pdf.\n",
      "[mcmc] Learn + convergence test @ 3600 samples accepted.\n",
      "[mcmc]  - Acceptance rate: 0.179\n",
      "[mcmc]  - Convergence of means: R-1 = 0.006105 after 3600 accepted steps\n",
      "[mcmc]  - Updated covariance matrix of proposal pdf.\n",
      "[mcmc] Learn + convergence test @ 3720 samples accepted.\n",
      "[mcmc]  - Acceptance rate: 0.182\n",
      "[mcmc]  - Convergence of means: R-1 = 0.005205 after 3720 accepted steps\n",
      "[mcmc]  - Updated covariance matrix of proposal pdf.\n",
      "[mcmc] Learn + convergence test @ 3840 samples accepted.\n",
      "[mcmc]  - Acceptance rate: 0.184\n",
      "[mcmc]  - Convergence of means: R-1 = 0.008155 after 3840 accepted steps\n",
      "[mcmc]  - Updated covariance matrix of proposal pdf.\n",
      "[mcmc] Learn + convergence test @ 3960 samples accepted.\n",
      "[mcmc]  - Acceptance rate: 0.186\n",
      "[mcmc]  - Convergence of means: R-1 = 0.012355 after 3960 accepted steps\n",
      "[mcmc]  - Updated covariance matrix of proposal pdf.\n",
      "[mcmc] Learn + convergence test @ 4080 samples accepted.\n",
      "[mcmc]  - Acceptance rate: 0.188\n",
      "[mcmc]  - Convergence of means: R-1 = 0.009767 after 4080 accepted steps\n",
      "[mcmc]  - Updated covariance matrix of proposal pdf.\n",
      "[mcmc] Learn + convergence test @ 4200 samples accepted.\n",
      "[mcmc]  - Acceptance rate: 0.190\n",
      "[mcmc]  - Convergence of means: R-1 = 0.008431 after 4200 accepted steps\n",
      "[mcmc]  - Updated covariance matrix of proposal pdf.\n",
      "[mcmc] Learn + convergence test @ 4320 samples accepted.\n",
      "[mcmc]  - Acceptance rate: 0.192\n",
      "[mcmc]  - Convergence of means: R-1 = 0.015123 after 4320 accepted steps\n",
      "[mcmc]  - Updated covariance matrix of proposal pdf.\n",
      "[mcmc] Learn + convergence test @ 4440 samples accepted.\n",
      "[mcmc]  - Acceptance rate: 0.194\n",
      "[mcmc]  - Convergence of means: R-1 = 0.008069 after 4440 accepted steps\n",
      "[mcmc]  - Updated covariance matrix of proposal pdf.\n",
      "[mcmc] Learn + convergence test @ 4560 samples accepted.\n",
      "[mcmc]  - Acceptance rate: 0.196\n",
      "[mcmc]  - Convergence of means: R-1 = 0.005320 after 4560 accepted steps\n",
      "[mcmc]  - Updated covariance matrix of proposal pdf.\n",
      "[mcmc] Learn + convergence test @ 4680 samples accepted.\n",
      "[mcmc]  - Acceptance rate: 0.198\n",
      "[mcmc]  - Convergence of means: R-1 = 0.008792 after 4680 accepted steps\n",
      "[mcmc]  - Updated covariance matrix of proposal pdf.\n",
      "[mcmc] Learn + convergence test @ 4800 samples accepted.\n",
      "[mcmc]  - Acceptance rate: 0.199\n",
      "[mcmc]  - Convergence of means: R-1 = 0.009371 after 4800 accepted steps\n",
      "[mcmc]  - Updated covariance matrix of proposal pdf.\n",
      "[mcmc] Learn + convergence test @ 4920 samples accepted.\n",
      "[mcmc]  - Acceptance rate: 0.201\n",
      "[mcmc]  - Convergence of means: R-1 = 0.007236 after 4920 accepted steps\n",
      "[mcmc]  - Updated covariance matrix of proposal pdf.\n",
      "[mcmc] Learn + convergence test @ 5040 samples accepted.\n",
      "[mcmc]  - Acceptance rate: 0.202\n",
      "[mcmc]  - Convergence of means: R-1 = 0.004485 after 5040 accepted steps\n",
      "[mcmc]  - Updated covariance matrix of proposal pdf.\n",
      "[mcmc] Learn + convergence test @ 5160 samples accepted.\n",
      "[mcmc]  - Acceptance rate: 0.204\n",
      "[mcmc]  - Convergence of means: R-1 = 0.008433 after 5160 accepted steps\n",
      "[mcmc]  - Updated covariance matrix of proposal pdf.\n",
      "[mcmc] Learn + convergence test @ 5280 samples accepted.\n",
      "[mcmc]  - Acceptance rate: 0.205\n",
      "[mcmc]  - Convergence of means: R-1 = 0.008251 after 5280 accepted steps\n",
      "[mcmc]  - Updated covariance matrix of proposal pdf.\n",
      "[mcmc] Learn + convergence test @ 5400 samples accepted.\n",
      "[mcmc]  - Acceptance rate: 0.207\n",
      "[mcmc]  - Convergence of means: R-1 = 0.006603 after 5400 accepted steps\n",
      "[mcmc]  - Updated covariance matrix of proposal pdf.\n",
      "[mcmc] Learn + convergence test @ 5520 samples accepted.\n",
      "[mcmc]  - Acceptance rate: 0.208\n",
      "[mcmc]  - Convergence of means: R-1 = 0.005695 after 5520 accepted steps\n",
      "[mcmc]  - Updated covariance matrix of proposal pdf.\n",
      "[mcmc] Learn + convergence test @ 5640 samples accepted.\n",
      "[mcmc]  - Acceptance rate: 0.210\n",
      "[mcmc]  - Convergence of means: R-1 = 0.005403 after 5640 accepted steps\n",
      "[mcmc]  - Updated covariance matrix of proposal pdf.\n",
      "[mcmc] Learn + convergence test @ 5760 samples accepted.\n",
      "[mcmc]  - Acceptance rate: 0.210\n",
      "[mcmc]  - Convergence of means: R-1 = 0.006950 after 5760 accepted steps\n",
      "[mcmc]  - Updated covariance matrix of proposal pdf.\n",
      "[mcmc] Learn + convergence test @ 5880 samples accepted.\n",
      "[mcmc]  - Acceptance rate: 0.211\n",
      "[mcmc]  - Convergence of means: R-1 = 0.004483 after 5880 accepted steps\n",
      "[mcmc]  - Updated covariance matrix of proposal pdf.\n",
      "[mcmc] Learn + convergence test @ 6000 samples accepted.\n",
      "[mcmc]  - Acceptance rate: 0.213\n",
      "[mcmc]  - Convergence of means: R-1 = 0.003678 after 6000 accepted steps\n",
      "[mcmc]  - Updated covariance matrix of proposal pdf.\n",
      "[mcmc] Learn + convergence test @ 6120 samples accepted.\n",
      "[mcmc]  - Acceptance rate: 0.214\n",
      "[mcmc]  - Convergence of means: R-1 = 0.004411 after 6120 accepted steps\n",
      "[mcmc]  - Updated covariance matrix of proposal pdf.\n",
      "[mcmc] Learn + convergence test @ 6240 samples accepted.\n",
      "[mcmc]  - Acceptance rate: 0.216\n",
      "[mcmc]  - Convergence of means: R-1 = 0.006804 after 6240 accepted steps\n",
      "[mcmc]  - Updated covariance matrix of proposal pdf.\n",
      "[mcmc] Learn + convergence test @ 6360 samples accepted.\n",
      "[mcmc]  - Acceptance rate: 0.217\n",
      "[mcmc]  - Convergence of means: R-1 = 0.004092 after 6360 accepted steps\n",
      "[mcmc]  - Updated covariance matrix of proposal pdf.\n",
      "[mcmc] Learn + convergence test @ 6480 samples accepted.\n",
      "[mcmc]  - Acceptance rate: 0.218\n",
      "[mcmc]  - Convergence of means: R-1 = 0.006215 after 6480 accepted steps\n",
      "[mcmc]  - Updated covariance matrix of proposal pdf.\n",
      "[mcmc] Learn + convergence test @ 6600 samples accepted.\n",
      "[mcmc]  - Acceptance rate: 0.219\n",
      "[mcmc]  - Convergence of means: R-1 = 0.004683 after 6600 accepted steps\n",
      "[mcmc]  - Updated covariance matrix of proposal pdf.\n",
      "[mcmc] Learn + convergence test @ 6720 samples accepted.\n",
      "[mcmc]  - Acceptance rate: 0.220\n",
      "[mcmc]  - Convergence of means: R-1 = 0.005482 after 6720 accepted steps\n",
      "[mcmc]  - Updated covariance matrix of proposal pdf.\n",
      "[mcmc] Learn + convergence test @ 6840 samples accepted.\n",
      "[mcmc]  - Acceptance rate: 0.221\n",
      "[mcmc]  - Convergence of means: R-1 = 0.003502 after 6840 accepted steps\n",
      "[mcmc]  - Updated covariance matrix of proposal pdf.\n",
      "[mcmc] Learn + convergence test @ 6960 samples accepted.\n",
      "[mcmc]  - Acceptance rate: 0.222\n",
      "[mcmc]  - Convergence of means: R-1 = 0.005363 after 6960 accepted steps\n",
      "[mcmc]  - Updated covariance matrix of proposal pdf.\n",
      "[mcmc] Learn + convergence test @ 7080 samples accepted.\n",
      "[mcmc]  - Acceptance rate: 0.223\n",
      "[mcmc]  - Convergence of means: R-1 = 0.005290 after 7080 accepted steps\n",
      "[mcmc]  - Updated covariance matrix of proposal pdf.\n",
      "[mcmc] Learn + convergence test @ 7200 samples accepted.\n",
      "[mcmc]  - Acceptance rate: 0.224\n",
      "[mcmc]  - Convergence of means: R-1 = 0.007136 after 7200 accepted steps\n",
      "[mcmc]  - Updated covariance matrix of proposal pdf.\n",
      "[mcmc] Learn + convergence test @ 7320 samples accepted.\n",
      "[mcmc]  - Acceptance rate: 0.225\n",
      "[mcmc]  - Convergence of means: R-1 = 0.006067 after 7320 accepted steps\n",
      "[mcmc]  - Updated covariance matrix of proposal pdf.\n",
      "[mcmc] Learn + convergence test @ 7440 samples accepted.\n",
      "[mcmc]  - Acceptance rate: 0.226\n",
      "[mcmc]  - Convergence of means: R-1 = 0.006711 after 7440 accepted steps\n",
      "[mcmc]  - Updated covariance matrix of proposal pdf.\n",
      "[mcmc] Learn + convergence test @ 7560 samples accepted.\n",
      "[mcmc]  - Acceptance rate: 0.226\n",
      "[mcmc]  - Convergence of means: R-1 = 0.003590 after 7560 accepted steps\n",
      "[mcmc]  - Updated covariance matrix of proposal pdf.\n",
      "[mcmc] Learn + convergence test @ 7680 samples accepted.\n",
      "[mcmc]  - Acceptance rate: 0.228\n",
      "[mcmc]  - Convergence of means: R-1 = 0.004338 after 7680 accepted steps\n",
      "[mcmc]  - Updated covariance matrix of proposal pdf.\n",
      "[mcmc] Learn + convergence test @ 7800 samples accepted.\n",
      "[mcmc]  - Acceptance rate: 0.229\n",
      "[mcmc]  - Convergence of means: R-1 = 0.004244 after 7800 accepted steps\n",
      "[mcmc]  - Updated covariance matrix of proposal pdf.\n",
      "[mcmc] Learn + convergence test @ 7920 samples accepted.\n",
      "[mcmc]  - Acceptance rate: 0.229\n",
      "[mcmc]  - Convergence of means: R-1 = 0.006044 after 7920 accepted steps\n",
      "[mcmc]  - Updated covariance matrix of proposal pdf.\n",
      "[mcmc] Learn + convergence test @ 8040 samples accepted.\n",
      "[mcmc]  - Acceptance rate: 0.230\n",
      "[mcmc]  - Convergence of means: R-1 = 0.005158 after 8040 accepted steps\n",
      "[mcmc]  - Updated covariance matrix of proposal pdf.\n",
      "[mcmc] Learn + convergence test @ 8160 samples accepted.\n",
      "[mcmc]  - Acceptance rate: 0.231\n",
      "[mcmc]  - Convergence of means: R-1 = 0.006039 after 8160 accepted steps\n",
      "[mcmc]  - Updated covariance matrix of proposal pdf.\n",
      "[mcmc] Learn + convergence test @ 8280 samples accepted.\n",
      "[mcmc]  - Acceptance rate: 0.232\n",
      "[mcmc]  - Convergence of means: R-1 = 0.005477 after 8280 accepted steps\n",
      "[mcmc]  - Updated covariance matrix of proposal pdf.\n",
      "[mcmc] Learn + convergence test @ 8400 samples accepted.\n",
      "[mcmc]  - Acceptance rate: 0.233\n",
      "[mcmc]  - Convergence of means: R-1 = 0.005806 after 8400 accepted steps\n",
      "[mcmc]  - Updated covariance matrix of proposal pdf.\n",
      "[mcmc] Learn + convergence test @ 8520 samples accepted.\n",
      "[mcmc]  - Acceptance rate: 0.233\n",
      "[mcmc]  - Convergence of means: R-1 = 0.006156 after 8520 accepted steps\n",
      "[mcmc]  - Updated covariance matrix of proposal pdf.\n",
      "[mcmc] Learn + convergence test @ 8640 samples accepted.\n",
      "[mcmc]  - Acceptance rate: 0.234\n",
      "[mcmc]  - Convergence of means: R-1 = 0.010177 after 8640 accepted steps\n",
      "[mcmc]  - Updated covariance matrix of proposal pdf.\n",
      "[mcmc] Learn + convergence test @ 8760 samples accepted.\n",
      "[mcmc]  - Acceptance rate: 0.235\n",
      "[mcmc]  - Convergence of means: R-1 = 0.006422 after 8760 accepted steps\n",
      "[mcmc]  - Updated covariance matrix of proposal pdf.\n",
      "[mcmc] Learn + convergence test @ 8880 samples accepted.\n",
      "[mcmc]  - Acceptance rate: 0.236\n",
      "[mcmc]  - Convergence of means: R-1 = 0.006888 after 8880 accepted steps\n",
      "[mcmc]  - Updated covariance matrix of proposal pdf.\n",
      "[mcmc] Learn + convergence test @ 9000 samples accepted.\n",
      "[mcmc]  - Acceptance rate: 0.236\n",
      "[mcmc]  - Convergence of means: R-1 = 0.008331 after 9000 accepted steps\n",
      "[mcmc]  - Updated covariance matrix of proposal pdf.\n",
      "[mcmc] Learn + convergence test @ 9120 samples accepted.\n",
      "[mcmc]  - Acceptance rate: 0.237\n",
      "[mcmc]  - Convergence of means: R-1 = 0.004163 after 9120 accepted steps\n",
      "[mcmc]  - Updated covariance matrix of proposal pdf.\n",
      "[mcmc] Learn + convergence test @ 9240 samples accepted.\n",
      "[mcmc]  - Acceptance rate: 0.238\n",
      "[mcmc]  - Convergence of means: R-1 = 0.007051 after 9240 accepted steps\n",
      "[mcmc]  - Updated covariance matrix of proposal pdf.\n",
      "[mcmc] Learn + convergence test @ 9360 samples accepted.\n",
      "[mcmc]  - Acceptance rate: 0.238\n",
      "[mcmc]  - Convergence of means: R-1 = 0.005800 after 9360 accepted steps\n",
      "[mcmc]  - Updated covariance matrix of proposal pdf.\n",
      "[mcmc] Learn + convergence test @ 9480 samples accepted.\n",
      "[mcmc]  - Acceptance rate: 0.239\n",
      "[mcmc]  - Convergence of means: R-1 = 0.005156 after 9480 accepted steps\n",
      "[mcmc]  - Updated covariance matrix of proposal pdf.\n",
      "[mcmc] Learn + convergence test @ 9600 samples accepted.\n",
      "[mcmc]  - Acceptance rate: 0.240\n",
      "[mcmc]  - Convergence of means: R-1 = 0.003972 after 9600 accepted steps\n",
      "[mcmc]  - Updated covariance matrix of proposal pdf.\n",
      "[mcmc] Learn + convergence test @ 9720 samples accepted.\n",
      "[mcmc]  - Acceptance rate: 0.240\n",
      "[mcmc]  - Convergence of means: R-1 = 0.003556 after 9720 accepted steps\n",
      "[mcmc]  - Updated covariance matrix of proposal pdf.\n",
      "[mcmc] Learn + convergence test @ 9840 samples accepted.\n",
      "[mcmc]  - Acceptance rate: 0.240\n",
      "[mcmc]  - Convergence of means: R-1 = 0.002412 after 9840 accepted steps\n",
      "[mcmc]  - Updated covariance matrix of proposal pdf.\n",
      "[mcmc] Learn + convergence test @ 9960 samples accepted.\n",
      "[mcmc]  - Acceptance rate: 0.241\n",
      "[mcmc]  - Convergence of means: R-1 = 0.001680 after 9960 accepted steps\n",
      "[mcmc]  - Updated covariance matrix of proposal pdf.\n",
      "[mcmc] Learn + convergence test @ 10080 samples accepted.\n",
      "[mcmc]  - Acceptance rate: 0.242\n",
      "[mcmc]  - Convergence of means: R-1 = 0.001904 after 10080 accepted steps\n",
      "[mcmc]  - Updated covariance matrix of proposal pdf.\n",
      "[mcmc] Learn + convergence test @ 10200 samples accepted.\n",
      "[mcmc]  - Acceptance rate: 0.243\n",
      "[mcmc]  - Convergence of means: R-1 = 0.002285 after 10200 accepted steps\n",
      "[mcmc]  - Updated covariance matrix of proposal pdf.\n",
      "[mcmc] Learn + convergence test @ 10320 samples accepted.\n",
      "[mcmc]  - Acceptance rate: 0.243\n",
      "[mcmc]  - Convergence of means: R-1 = 0.003564 after 10320 accepted steps\n",
      "[mcmc]  - Updated covariance matrix of proposal pdf.\n",
      "[mcmc] Learn + convergence test @ 10440 samples accepted.\n",
      "[mcmc]  - Acceptance rate: 0.244\n",
      "[mcmc]  - Convergence of means: R-1 = 0.004197 after 10440 accepted steps\n",
      "[mcmc]  - Updated covariance matrix of proposal pdf.\n",
      "[mcmc] Learn + convergence test @ 10560 samples accepted.\n",
      "[mcmc]  - Acceptance rate: 0.245\n",
      "[mcmc]  - Convergence of means: R-1 = 0.003427 after 10560 accepted steps\n",
      "[mcmc]  - Updated covariance matrix of proposal pdf.\n",
      "[mcmc] Learn + convergence test @ 10680 samples accepted.\n",
      "[mcmc]  - Acceptance rate: 0.245\n",
      "[mcmc]  - Convergence of means: R-1 = 0.002582 after 10680 accepted steps\n",
      "[mcmc]  - Updated covariance matrix of proposal pdf.\n",
      "[mcmc] Learn + convergence test @ 10800 samples accepted.\n",
      "[mcmc]  - Acceptance rate: 0.245\n",
      "[mcmc]  - Convergence of means: R-1 = 0.002582 after 10800 accepted steps\n",
      "[mcmc]  - Updated covariance matrix of proposal pdf.\n",
      "[mcmc] Learn + convergence test @ 10920 samples accepted.\n",
      "[mcmc]  - Acceptance rate: 0.246\n",
      "[mcmc]  - Convergence of means: R-1 = 0.003091 after 10920 accepted steps\n",
      "[mcmc]  - Updated covariance matrix of proposal pdf.\n",
      "[mcmc] Learn + convergence test @ 11040 samples accepted.\n",
      "[mcmc]  - Acceptance rate: 0.247\n",
      "[mcmc]  - Convergence of means: R-1 = 0.002773 after 11040 accepted steps\n",
      "[mcmc]  - Updated covariance matrix of proposal pdf.\n",
      "[mcmc] Learn + convergence test @ 11160 samples accepted.\n",
      "[mcmc]  - Acceptance rate: 0.247\n",
      "[mcmc]  - Convergence of means: R-1 = 0.002598 after 11160 accepted steps\n",
      "[mcmc]  - Updated covariance matrix of proposal pdf.\n",
      "[mcmc] Learn + convergence test @ 11280 samples accepted.\n",
      "[mcmc]  - Acceptance rate: 0.247\n",
      "[mcmc]  - Convergence of means: R-1 = 0.002522 after 11280 accepted steps\n",
      "[mcmc]  - Updated covariance matrix of proposal pdf.\n",
      "[mcmc] Learn + convergence test @ 11400 samples accepted.\n",
      "[mcmc]  - Acceptance rate: 0.248\n",
      "[mcmc]  - Convergence of means: R-1 = 0.002401 after 11400 accepted steps\n",
      "[mcmc]  - Updated covariance matrix of proposal pdf.\n",
      "[mcmc] Learn + convergence test @ 11520 samples accepted.\n",
      "[mcmc]  - Acceptance rate: 0.248\n",
      "[mcmc]  - Convergence of means: R-1 = 0.003094 after 11520 accepted steps\n",
      "[mcmc]  - Updated covariance matrix of proposal pdf.\n",
      "[mcmc] Learn + convergence test @ 11640 samples accepted.\n",
      "[mcmc]  - Acceptance rate: 0.249\n",
      "[mcmc]  - Convergence of means: R-1 = 0.003705 after 11640 accepted steps\n",
      "[mcmc]  - Updated covariance matrix of proposal pdf.\n",
      "[mcmc] Learn + convergence test @ 11760 samples accepted.\n",
      "[mcmc]  - Acceptance rate: 0.249\n",
      "[mcmc]  - Convergence of means: R-1 = 0.002146 after 11760 accepted steps\n",
      "[mcmc]  - Updated covariance matrix of proposal pdf.\n",
      "[mcmc] Learn + convergence test @ 11880 samples accepted.\n",
      "[mcmc]  - Acceptance rate: 0.250\n",
      "[mcmc]  - Convergence of means: R-1 = 0.002912 after 11880 accepted steps\n",
      "[mcmc]  - Updated covariance matrix of proposal pdf.\n",
      "[mcmc] Learn + convergence test @ 12000 samples accepted.\n",
      "[mcmc]  - Acceptance rate: 0.250\n",
      "[mcmc]  - Convergence of means: R-1 = 0.002636 after 12000 accepted steps\n",
      "[mcmc]  - Updated covariance matrix of proposal pdf.\n",
      "[mcmc] Learn + convergence test @ 12120 samples accepted.\n",
      "[mcmc]  - Acceptance rate: 0.251\n",
      "[mcmc]  - Convergence of means: R-1 = 0.002370 after 12120 accepted steps\n",
      "[mcmc]  - Updated covariance matrix of proposal pdf.\n",
      "[mcmc] Learn + convergence test @ 12240 samples accepted.\n",
      "[mcmc]  - Acceptance rate: 0.251\n",
      "[mcmc]  - Convergence of means: R-1 = 0.002575 after 12240 accepted steps\n",
      "[mcmc]  - Updated covariance matrix of proposal pdf.\n",
      "[mcmc] Learn + convergence test @ 12360 samples accepted.\n",
      "[mcmc]  - Acceptance rate: 0.252\n",
      "[mcmc]  - Convergence of means: R-1 = 0.004189 after 12360 accepted steps\n",
      "[mcmc]  - Updated covariance matrix of proposal pdf.\n",
      "[mcmc] Learn + convergence test @ 12480 samples accepted.\n",
      "[mcmc]  - Acceptance rate: 0.253\n",
      "[mcmc]  - Convergence of means: R-1 = 0.003409 after 12480 accepted steps\n",
      "[mcmc]  - Updated covariance matrix of proposal pdf.\n",
      "[mcmc] Learn + convergence test @ 12600 samples accepted.\n",
      "[mcmc]  - Acceptance rate: 0.253\n",
      "[mcmc]  - Convergence of means: R-1 = 0.004436 after 12600 accepted steps\n",
      "[mcmc]  - Updated covariance matrix of proposal pdf.\n",
      "[mcmc] Learn + convergence test @ 12720 samples accepted.\n",
      "[mcmc]  - Acceptance rate: 0.254\n",
      "[mcmc]  - Convergence of means: R-1 = 0.004941 after 12720 accepted steps\n",
      "[mcmc]  - Updated covariance matrix of proposal pdf.\n",
      "[mcmc] Learn + convergence test @ 12840 samples accepted.\n",
      "[mcmc]  - Acceptance rate: 0.254\n",
      "[mcmc]  - Convergence of means: R-1 = 0.004544 after 12840 accepted steps\n",
      "[mcmc]  - Updated covariance matrix of proposal pdf.\n",
      "[mcmc] Learn + convergence test @ 12960 samples accepted.\n",
      "[mcmc]  - Acceptance rate: 0.255\n",
      "[mcmc]  - Convergence of means: R-1 = 0.004612 after 12960 accepted steps\n",
      "[mcmc]  - Updated covariance matrix of proposal pdf.\n",
      "[mcmc] Learn + convergence test @ 13080 samples accepted.\n",
      "[mcmc]  - Acceptance rate: 0.255\n",
      "[mcmc]  - Convergence of means: R-1 = 0.003772 after 13080 accepted steps\n",
      "[mcmc]  - Updated covariance matrix of proposal pdf.\n",
      "[mcmc] Learn + convergence test @ 13200 samples accepted.\n",
      "[mcmc]  - Acceptance rate: 0.255\n",
      "[mcmc]  - Convergence of means: R-1 = 0.005003 after 13200 accepted steps\n",
      "[mcmc]  - Updated covariance matrix of proposal pdf.\n",
      "[mcmc] Learn + convergence test @ 13320 samples accepted.\n",
      "[mcmc]  - Acceptance rate: 0.256\n",
      "[mcmc]  - Convergence of means: R-1 = 0.004067 after 13320 accepted steps\n",
      "[mcmc]  - Updated covariance matrix of proposal pdf.\n",
      "[mcmc] Learn + convergence test @ 13440 samples accepted.\n",
      "[mcmc]  - Acceptance rate: 0.256\n",
      "[mcmc]  - Convergence of means: R-1 = 0.003860 after 13440 accepted steps\n",
      "[mcmc]  - Updated covariance matrix of proposal pdf.\n",
      "[mcmc] Learn + convergence test @ 13560 samples accepted.\n",
      "[mcmc]  - Acceptance rate: 0.256\n",
      "[mcmc]  - Convergence of means: R-1 = 0.004812 after 13560 accepted steps\n",
      "[mcmc]  - Updated covariance matrix of proposal pdf.\n",
      "[mcmc] Learn + convergence test @ 13680 samples accepted.\n",
      "[mcmc]  - Acceptance rate: 0.257\n",
      "[mcmc]  - Convergence of means: R-1 = 0.004650 after 13680 accepted steps\n",
      "[mcmc]  - Updated covariance matrix of proposal pdf.\n",
      "[mcmc] Learn + convergence test @ 13800 samples accepted.\n",
      "[mcmc]  - Acceptance rate: 0.257\n",
      "[mcmc]  - Convergence of means: R-1 = 0.004524 after 13800 accepted steps\n",
      "[mcmc]  - Updated covariance matrix of proposal pdf.\n",
      "[mcmc] Learn + convergence test @ 13920 samples accepted.\n",
      "[mcmc]  - Acceptance rate: 0.258\n",
      "[mcmc]  - Convergence of means: R-1 = 0.004115 after 13920 accepted steps\n",
      "[mcmc]  - Updated covariance matrix of proposal pdf.\n",
      "[mcmc] Learn + convergence test @ 14040 samples accepted.\n",
      "[mcmc]  - Acceptance rate: 0.258\n",
      "[mcmc]  - Convergence of means: R-1 = 0.003975 after 14040 accepted steps\n",
      "[mcmc]  - Updated covariance matrix of proposal pdf.\n",
      "[mcmc] Learn + convergence test @ 14160 samples accepted.\n",
      "[mcmc]  - Acceptance rate: 0.258\n",
      "[mcmc]  - Convergence of means: R-1 = 0.004309 after 14160 accepted steps\n",
      "[mcmc]  - Updated covariance matrix of proposal pdf.\n",
      "[mcmc] Learn + convergence test @ 14280 samples accepted.\n",
      "[mcmc]  - Acceptance rate: 0.258\n",
      "[mcmc]  - Convergence of means: R-1 = 0.004417 after 14280 accepted steps\n",
      "[mcmc]  - Updated covariance matrix of proposal pdf.\n",
      "[mcmc] Learn + convergence test @ 14400 samples accepted.\n",
      "[mcmc]  - Acceptance rate: 0.259\n",
      "[mcmc]  - Convergence of means: R-1 = 0.004300 after 14400 accepted steps\n",
      "[mcmc]  - Updated covariance matrix of proposal pdf.\n",
      "[mcmc] Learn + convergence test @ 14520 samples accepted.\n",
      "[mcmc]  - Acceptance rate: 0.259\n",
      "[mcmc]  - Convergence of means: R-1 = 0.004190 after 14520 accepted steps\n",
      "[mcmc]  - Updated covariance matrix of proposal pdf.\n",
      "[mcmc] Learn + convergence test @ 14640 samples accepted.\n",
      "[mcmc]  - Acceptance rate: 0.260\n",
      "[mcmc]  - Convergence of means: R-1 = 0.002883 after 14640 accepted steps\n",
      "[mcmc]  - Updated covariance matrix of proposal pdf.\n",
      "[mcmc] Learn + convergence test @ 14760 samples accepted.\n",
      "[mcmc]  - Acceptance rate: 0.260\n",
      "[mcmc]  - Convergence of means: R-1 = 0.002575 after 14760 accepted steps\n",
      "[mcmc]  - Updated covariance matrix of proposal pdf.\n",
      "[mcmc] Learn + convergence test @ 14880 samples accepted.\n",
      "[mcmc]  - Acceptance rate: 0.260\n",
      "[mcmc]  - Convergence of means: R-1 = 0.002196 after 14880 accepted steps\n",
      "[mcmc]  - Updated covariance matrix of proposal pdf.\n",
      "[mcmc] Learn + convergence test @ 15000 samples accepted.\n",
      "[mcmc]  - Acceptance rate: 0.261\n",
      "[mcmc]  - Convergence of means: R-1 = 0.001947 after 15000 accepted steps\n",
      "[mcmc]  - Updated covariance matrix of proposal pdf.\n",
      "[mcmc] Learn + convergence test @ 15120 samples accepted.\n",
      "[mcmc]  - Acceptance rate: 0.261\n",
      "[mcmc]  - Convergence of means: R-1 = 0.002006 after 15120 accepted steps\n",
      "[mcmc]  - Updated covariance matrix of proposal pdf.\n",
      "[mcmc] Learn + convergence test @ 15240 samples accepted.\n",
      "[mcmc]  - Acceptance rate: 0.262\n",
      "[mcmc]  - Convergence of means: R-1 = 0.002191 after 15240 accepted steps\n",
      "[mcmc]  - Updated covariance matrix of proposal pdf.\n",
      "[mcmc] Learn + convergence test @ 15360 samples accepted.\n",
      "[mcmc]  - Acceptance rate: 0.262\n",
      "[mcmc]  - Convergence of means: R-1 = 0.002793 after 15360 accepted steps\n",
      "[mcmc]  - Updated covariance matrix of proposal pdf.\n",
      "[mcmc] Learn + convergence test @ 15480 samples accepted.\n",
      "[mcmc]  - Acceptance rate: 0.263\n",
      "[mcmc]  - Convergence of means: R-1 = 0.003085 after 15480 accepted steps\n",
      "[mcmc]  - Updated covariance matrix of proposal pdf.\n",
      "[mcmc] Learn + convergence test @ 15600 samples accepted.\n",
      "[mcmc]  - Acceptance rate: 0.263\n",
      "[mcmc]  - Convergence of means: R-1 = 0.003180 after 15600 accepted steps\n",
      "[mcmc]  - Updated covariance matrix of proposal pdf.\n",
      "[mcmc] Learn + convergence test @ 15720 samples accepted.\n",
      "[mcmc]  - Acceptance rate: 0.263\n",
      "[mcmc]  - Convergence of means: R-1 = 0.003629 after 15720 accepted steps\n",
      "[mcmc]  - Updated covariance matrix of proposal pdf.\n",
      "[mcmc] Learn + convergence test @ 15840 samples accepted.\n",
      "[mcmc]  - Acceptance rate: 0.263\n",
      "[mcmc]  - Convergence of means: R-1 = 0.003407 after 15840 accepted steps\n",
      "[mcmc]  - Updated covariance matrix of proposal pdf.\n",
      "[mcmc] Learn + convergence test @ 15960 samples accepted.\n",
      "[mcmc]  - Acceptance rate: 0.264\n",
      "[mcmc]  - Convergence of means: R-1 = 0.003092 after 15960 accepted steps\n",
      "[mcmc]  - Updated covariance matrix of proposal pdf.\n",
      "[mcmc] Learn + convergence test @ 16080 samples accepted.\n",
      "[mcmc]  - Acceptance rate: 0.264\n",
      "[mcmc]  - Convergence of means: R-1 = 0.003059 after 16080 accepted steps\n",
      "[mcmc]  - Updated covariance matrix of proposal pdf.\n",
      "[mcmc] Learn + convergence test @ 16200 samples accepted.\n",
      "[mcmc]  - Acceptance rate: 0.264\n",
      "[mcmc]  - Convergence of means: R-1 = 0.002981 after 16200 accepted steps\n",
      "[mcmc]  - Updated covariance matrix of proposal pdf.\n",
      "[mcmc] Learn + convergence test @ 16320 samples accepted.\n",
      "[mcmc]  - Acceptance rate: 0.264\n",
      "[mcmc]  - Convergence of means: R-1 = 0.002595 after 16320 accepted steps\n",
      "[mcmc]  - Updated covariance matrix of proposal pdf.\n",
      "[mcmc] Learn + convergence test @ 16440 samples accepted.\n",
      "[mcmc]  - Acceptance rate: 0.264\n",
      "[mcmc]  - Convergence of means: R-1 = 0.004379 after 16440 accepted steps\n",
      "[mcmc]  - Updated covariance matrix of proposal pdf.\n",
      "[mcmc] Learn + convergence test @ 16560 samples accepted.\n",
      "[mcmc]  - Acceptance rate: 0.265\n",
      "[mcmc]  - Convergence of means: R-1 = 0.002776 after 16560 accepted steps\n",
      "[mcmc]  - Updated covariance matrix of proposal pdf.\n",
      "[mcmc] Learn + convergence test @ 16680 samples accepted.\n",
      "[mcmc]  - Acceptance rate: 0.265\n",
      "[mcmc]  - Convergence of means: R-1 = 0.002891 after 16680 accepted steps\n",
      "[mcmc]  - Updated covariance matrix of proposal pdf.\n",
      "[mcmc] Learn + convergence test @ 16800 samples accepted.\n",
      "[mcmc]  - Acceptance rate: 0.265\n",
      "[mcmc]  - Convergence of means: R-1 = 0.003704 after 16800 accepted steps\n",
      "[mcmc]  - Updated covariance matrix of proposal pdf.\n",
      "[mcmc] Learn + convergence test @ 16920 samples accepted.\n",
      "[mcmc]  - Acceptance rate: 0.266\n",
      "[mcmc]  - Convergence of means: R-1 = 0.004934 after 16920 accepted steps\n",
      "[mcmc]  - Updated covariance matrix of proposal pdf.\n",
      "[mcmc] Learn + convergence test @ 17040 samples accepted.\n",
      "[mcmc]  - Acceptance rate: 0.266\n",
      "[mcmc]  - Convergence of means: R-1 = 0.005035 after 17040 accepted steps\n",
      "[mcmc]  - Updated covariance matrix of proposal pdf.\n",
      "[mcmc] Learn + convergence test @ 17160 samples accepted.\n",
      "[mcmc]  - Acceptance rate: 0.266\n",
      "[mcmc]  - Convergence of means: R-1 = 0.005248 after 17160 accepted steps\n",
      "[mcmc]  - Updated covariance matrix of proposal pdf.\n",
      "[mcmc] Learn + convergence test @ 17280 samples accepted.\n",
      "[mcmc]  - Acceptance rate: 0.266\n",
      "[mcmc]  - Convergence of means: R-1 = 0.004218 after 17280 accepted steps\n",
      "[mcmc]  - Updated covariance matrix of proposal pdf.\n",
      "[mcmc] Learn + convergence test @ 17400 samples accepted.\n",
      "[mcmc]  - Acceptance rate: 0.266\n",
      "[mcmc]  - Convergence of means: R-1 = 0.003143 after 17400 accepted steps\n",
      "[mcmc]  - Updated covariance matrix of proposal pdf.\n",
      "[mcmc] Learn + convergence test @ 17520 samples accepted.\n",
      "[mcmc]  - Acceptance rate: 0.267\n",
      "[mcmc]  - Convergence of means: R-1 = 0.002916 after 17520 accepted steps\n",
      "[mcmc]  - Updated covariance matrix of proposal pdf.\n",
      "[mcmc] Learn + convergence test @ 17640 samples accepted.\n",
      "[mcmc]  - Acceptance rate: 0.267\n",
      "[mcmc]  - Convergence of means: R-1 = 0.002813 after 17640 accepted steps\n",
      "[mcmc]  - Updated covariance matrix of proposal pdf.\n",
      "[mcmc] Learn + convergence test @ 17760 samples accepted.\n",
      "[mcmc]  - Acceptance rate: 0.267\n",
      "[mcmc]  - Convergence of means: R-1 = 0.002116 after 17760 accepted steps\n",
      "[mcmc]  - Updated covariance matrix of proposal pdf.\n",
      "[mcmc] Learn + convergence test @ 17880 samples accepted.\n",
      "[mcmc]  - Acceptance rate: 0.268\n",
      "[mcmc]  - Convergence of means: R-1 = 0.001499 after 17880 accepted steps\n",
      "[mcmc]  - Updated covariance matrix of proposal pdf.\n",
      "[mcmc] Learn + convergence test @ 18000 samples accepted.\n",
      "[mcmc]  - Acceptance rate: 0.268\n",
      "[mcmc]  - Convergence of means: R-1 = 0.001270 after 18000 accepted steps\n",
      "[mcmc]  - Updated covariance matrix of proposal pdf.\n",
      "[mcmc] Learn + convergence test @ 18120 samples accepted.\n",
      "[mcmc]  - Acceptance rate: 0.268\n",
      "[mcmc]  - Convergence of means: R-1 = 0.001543 after 18120 accepted steps\n",
      "[mcmc]  - Updated covariance matrix of proposal pdf.\n",
      "[mcmc] Learn + convergence test @ 18240 samples accepted.\n",
      "[mcmc]  - Acceptance rate: 0.268\n",
      "[mcmc]  - Convergence of means: R-1 = 0.002080 after 18240 accepted steps\n",
      "[mcmc]  - Updated covariance matrix of proposal pdf.\n",
      "[mcmc] Learn + convergence test @ 18360 samples accepted.\n",
      "[mcmc]  - Acceptance rate: 0.268\n",
      "[mcmc]  - Convergence of means: R-1 = 0.002115 after 18360 accepted steps\n",
      "[mcmc]  - Updated covariance matrix of proposal pdf.\n",
      "[mcmc] Learn + convergence test @ 18480 samples accepted.\n",
      "[mcmc]  - Acceptance rate: 0.268\n",
      "[mcmc]  - Convergence of means: R-1 = 0.002443 after 18480 accepted steps\n",
      "[mcmc]  - Updated covariance matrix of proposal pdf.\n",
      "[mcmc] Learn + convergence test @ 18600 samples accepted.\n",
      "[mcmc]  - Acceptance rate: 0.268\n",
      "[mcmc]  - Convergence of means: R-1 = 0.002289 after 18600 accepted steps\n",
      "[mcmc]  - Updated covariance matrix of proposal pdf.\n",
      "[mcmc] Learn + convergence test @ 18720 samples accepted.\n",
      "[mcmc]  - Acceptance rate: 0.268\n",
      "[mcmc]  - Convergence of means: R-1 = 0.003766 after 18720 accepted steps\n",
      "[mcmc]  - Updated covariance matrix of proposal pdf.\n",
      "[mcmc] Learn + convergence test @ 18840 samples accepted.\n",
      "[mcmc]  - Acceptance rate: 0.269\n",
      "[mcmc]  - Convergence of means: R-1 = 0.002908 after 18840 accepted steps\n",
      "[mcmc]  - Updated covariance matrix of proposal pdf.\n",
      "[mcmc] Learn + convergence test @ 18960 samples accepted.\n",
      "[mcmc]  - Acceptance rate: 0.269\n",
      "[mcmc]  - Convergence of means: R-1 = 0.003503 after 18960 accepted steps\n",
      "[mcmc]  - Updated covariance matrix of proposal pdf.\n",
      "[mcmc] Learn + convergence test @ 19080 samples accepted.\n",
      "[mcmc]  - Acceptance rate: 0.269\n",
      "[mcmc]  - Convergence of means: R-1 = 0.003559 after 19080 accepted steps\n",
      "[mcmc]  - Updated covariance matrix of proposal pdf.\n",
      "[mcmc] Learn + convergence test @ 19200 samples accepted.\n",
      "[mcmc]  - Acceptance rate: 0.269\n",
      "[mcmc]  - Convergence of means: R-1 = 0.003876 after 19200 accepted steps\n",
      "[mcmc]  - Updated covariance matrix of proposal pdf.\n",
      "[mcmc] Learn + convergence test @ 19320 samples accepted.\n",
      "[mcmc]  - Acceptance rate: 0.270\n",
      "[mcmc]  - Convergence of means: R-1 = 0.003255 after 19320 accepted steps\n",
      "[mcmc]  - Updated covariance matrix of proposal pdf.\n",
      "[mcmc] Learn + convergence test @ 19440 samples accepted.\n",
      "[mcmc]  - Acceptance rate: 0.270\n",
      "[mcmc]  - Convergence of means: R-1 = 0.003545 after 19440 accepted steps\n",
      "[mcmc]  - Updated covariance matrix of proposal pdf.\n",
      "[mcmc] Learn + convergence test @ 19560 samples accepted.\n",
      "[mcmc]  - Acceptance rate: 0.270\n",
      "[mcmc]  - Convergence of means: R-1 = 0.002946 after 19560 accepted steps\n",
      "[mcmc]  - Updated covariance matrix of proposal pdf.\n",
      "[mcmc] Learn + convergence test @ 19680 samples accepted.\n",
      "[mcmc]  - Acceptance rate: 0.270\n",
      "[mcmc]  - Convergence of means: R-1 = 0.002286 after 19680 accepted steps\n",
      "[mcmc]  - Updated covariance matrix of proposal pdf.\n",
      "[mcmc] Learn + convergence test @ 19800 samples accepted.\n",
      "[mcmc]  - Acceptance rate: 0.270\n",
      "[mcmc]  - Convergence of means: R-1 = 0.002802 after 19800 accepted steps\n",
      "[mcmc]  - Updated covariance matrix of proposal pdf.\n",
      "[mcmc] Learn + convergence test @ 19920 samples accepted.\n",
      "[mcmc]  - Acceptance rate: 0.271\n",
      "[mcmc]  - Convergence of means: R-1 = 0.002819 after 19920 accepted steps\n",
      "[mcmc]  - Updated covariance matrix of proposal pdf.\n",
      "[mcmc] Learn + convergence test @ 20040 samples accepted.\n",
      "[mcmc]  - Acceptance rate: 0.271\n",
      "[mcmc]  - Convergence of means: R-1 = 0.002363 after 20040 accepted steps\n",
      "[mcmc]  - Updated covariance matrix of proposal pdf.\n",
      "[mcmc] Learn + convergence test @ 20160 samples accepted.\n",
      "[mcmc]  - Acceptance rate: 0.271\n",
      "[mcmc]  - Convergence of means: R-1 = 0.002201 after 20160 accepted steps\n",
      "[mcmc]  - Updated covariance matrix of proposal pdf.\n",
      "[mcmc] Learn + convergence test @ 20280 samples accepted.\n",
      "[mcmc]  - Acceptance rate: 0.272\n",
      "[mcmc]  - Convergence of means: R-1 = 0.002484 after 20280 accepted steps\n",
      "[mcmc]  - Updated covariance matrix of proposal pdf.\n",
      "[mcmc] Learn + convergence test @ 20400 samples accepted.\n",
      "[mcmc]  - Acceptance rate: 0.272\n",
      "[mcmc]  - Convergence of means: R-1 = 0.001904 after 20400 accepted steps\n",
      "[mcmc]  - Updated covariance matrix of proposal pdf.\n",
      "[mcmc] Learn + convergence test @ 20520 samples accepted.\n",
      "[mcmc]  - Acceptance rate: 0.272\n",
      "[mcmc]  - Convergence of means: R-1 = 0.001901 after 20520 accepted steps\n",
      "[mcmc]  - Updated covariance matrix of proposal pdf.\n",
      "[mcmc] Learn + convergence test @ 20640 samples accepted.\n",
      "[mcmc]  - Acceptance rate: 0.272\n",
      "[mcmc]  - Convergence of means: R-1 = 0.001713 after 20640 accepted steps\n",
      "[mcmc]  - Updated covariance matrix of proposal pdf.\n",
      "[mcmc] Learn + convergence test @ 20760 samples accepted.\n",
      "[mcmc]  - Acceptance rate: 0.272\n",
      "[mcmc]  - Convergence of means: R-1 = 0.001500 after 20760 accepted steps\n",
      "[mcmc]  - Updated covariance matrix of proposal pdf.\n",
      "[mcmc] Learn + convergence test @ 20880 samples accepted.\n",
      "[mcmc]  - Acceptance rate: 0.272\n",
      "[mcmc]  - Convergence of means: R-1 = 0.001683 after 20880 accepted steps\n",
      "[mcmc]  - Updated covariance matrix of proposal pdf.\n",
      "[mcmc] Learn + convergence test @ 21000 samples accepted.\n",
      "[mcmc]  - Acceptance rate: 0.272\n",
      "[mcmc]  - Convergence of means: R-1 = 0.001816 after 21000 accepted steps\n",
      "[mcmc]  - Updated covariance matrix of proposal pdf.\n",
      "[mcmc] Learn + convergence test @ 21120 samples accepted.\n",
      "[mcmc]  - Acceptance rate: 0.273\n",
      "[mcmc]  - Convergence of means: R-1 = 0.001630 after 21120 accepted steps\n",
      "[mcmc]  - Updated covariance matrix of proposal pdf.\n",
      "[mcmc] Learn + convergence test @ 21240 samples accepted.\n",
      "[mcmc]  - Acceptance rate: 0.273\n",
      "[mcmc]  - Convergence of means: R-1 = 0.001408 after 21240 accepted steps\n",
      "[mcmc]  - Updated covariance matrix of proposal pdf.\n",
      "[mcmc] Learn + convergence test @ 21360 samples accepted.\n",
      "[mcmc]  - Acceptance rate: 0.273\n",
      "[mcmc]  - Convergence of means: R-1 = 0.001593 after 21360 accepted steps\n",
      "[mcmc]  - Updated covariance matrix of proposal pdf.\n",
      "[mcmc] Learn + convergence test @ 21480 samples accepted.\n",
      "[mcmc]  - Acceptance rate: 0.273\n",
      "[mcmc]  - Convergence of means: R-1 = 0.001758 after 21480 accepted steps\n",
      "[mcmc]  - Updated covariance matrix of proposal pdf.\n",
      "[mcmc] Learn + convergence test @ 21600 samples accepted.\n",
      "[mcmc]  - Acceptance rate: 0.273\n",
      "[mcmc]  - Convergence of means: R-1 = 0.001616 after 21600 accepted steps\n",
      "[mcmc]  - Updated covariance matrix of proposal pdf.\n",
      "[mcmc] Learn + convergence test @ 21720 samples accepted.\n",
      "[mcmc]  - Acceptance rate: 0.273\n",
      "[mcmc]  - Convergence of means: R-1 = 0.001076 after 21720 accepted steps\n",
      "[mcmc]  - Updated covariance matrix of proposal pdf.\n",
      "[mcmc] Learn + convergence test @ 21840 samples accepted.\n",
      "[mcmc]  - Acceptance rate: 0.273\n",
      "[mcmc]  - Convergence of means: R-1 = 0.001046 after 21840 accepted steps\n",
      "[mcmc]  - Updated covariance matrix of proposal pdf.\n",
      "[mcmc] Learn + convergence test @ 21960 samples accepted.\n",
      "[mcmc]  - Acceptance rate: 0.274\n",
      "[mcmc]  - Convergence of means: R-1 = 0.000977 after 21960 accepted steps\n",
      "[mcmc]  - Updated covariance matrix of proposal pdf.\n",
      "[mcmc] Learn + convergence test @ 22080 samples accepted.\n",
      "[mcmc]  - Acceptance rate: 0.274\n",
      "[mcmc]  - Convergence of means: R-1 = 0.000973 after 22080 accepted steps\n",
      "[mcmc]  - Convergence of bounds: R-1 = 0.042145 after 22080 accepted steps\n",
      "[mcmc] The run has converged!\n",
      "[mcmc] Sampling complete after 22080 accepted steps.\n",
      "[root] *WARNING* outlier fraction 0.000588768115942029 \n"
     ]
    },
    {
     "data": {
      "text/plain": "<Figure size 360x360 with 6 Axes>",
      "image/png": "[encoded data removed]"
     },
     "metadata": {
      "needs_background": "light"
     },
     "output_type": "display_data"
    }
   ],
   "source": [
    "\n",
    "extnd_likelihood_info = {'noisy_data_like': extnd_noisy_data_logp}\n",
    "extnd_params_info = {k: {\"prior\": {\"min\": -1, \"max\": 1}} for k in extnd_model_keys}\n",
    "extnd_sampler_info = {'mcmc':{'Rminus1_stop': 0.001, 'max_tries':1000}}\n",
    "extnd_info = {'likelihood': extnd_likelihood_info,\n",
    "        'params': extnd_params_info,\n",
    "        'sampler': extnd_sampler_info}\n",
    "\n",
    "extnd_updated_info, extnd_sampler = run(extnd_info)\n",
    "extnd_gdsamples = MCSamplesFromCobaya(extnd_updated_info, extnd_sampler.products()[\"sample\"])\n",
    "gdplot = gdplt.get_subplot_plotter(width_inch=5)\n",
    "gdplot.triangle_plot(extnd_gdsamples, extnd_model_keys, filled=True)"
   ],
   "metadata": {
    "collapsed": false,
    "pycharm": {
     "name": "#%%\n"
    }
   }
  },
  {
   "cell_type": "code",
   "execution_count": 2,
   "outputs": [
    {
     "data": {
      "text/plain": "Polynomial([1., 2.], domain=[-1,  1], window=[-1,  1])",
      "text/latex": "$x \\mapsto \\text{1.0} + \\text{2.0}\\,x$"
     },
     "execution_count": 2,
     "metadata": {},
     "output_type": "execute_result"
    }
   ],
   "source": [
    "np.polynomial.Polynomial([1,2])"
   ],
   "metadata": {
    "collapsed": false,
    "pycharm": {
     "name": "#%%\n"
    }
   }
  },
  {
   "cell_type": "code",
   "execution_count": 54,
   "outputs": [
    {
     "data": {
      "text/plain": "array([0.74892646, 0.11732928, 0.02194141])"
     },
     "execution_count": 54,
     "metadata": {},
     "output_type": "execute_result"
    }
   ],
   "source": [
    "extnd_gdsamples.mean(extnd_model_keys)"
   ],
   "metadata": {
    "collapsed": false,
    "pycharm": {
     "name": "#%%\n"
    }
   }
  },
  {
   "cell_type": "code",
   "execution_count": 53,
   "outputs": [
    {
     "data": {
      "text/plain": "array([0.03356573, 0.03832737, 0.0737004 ])"
     },
     "execution_count": 53,
     "metadata": {},
     "output_type": "execute_result"
    }
   ],
   "source": [
    "extnd_gdsamples.std(extnd_model_keys)"
   ],
   "metadata": {
    "collapsed": false,
    "pycharm": {
     "name": "#%%\n"
    }
   }
  },
  {
   "cell_type": "code",
   "execution_count": 12,
   "outputs": [
    {
     "ename": "AttributeError",
     "evalue": "'LikeStats' object has no attribute 'bestfit'",
     "output_type": "error",
     "traceback": [
      "\u001B[0;31m---------------------------------------------------------------------------\u001B[0m",
      "\u001B[0;31mAttributeError\u001B[0m                            Traceback (most recent call last)",
      "\u001B[0;32m<ipython-input-12-c76a1ce7c584>\u001B[0m in \u001B[0;36m<module>\u001B[0;34m\u001B[0m\n\u001B[0;32m----> 1\u001B[0;31m \u001B[0mtest\u001B[0m\u001B[0;34m=\u001B[0m\u001B[0mbaseline_gdsamples\u001B[0m\u001B[0;34m.\u001B[0m\u001B[0mlikeStats\u001B[0m\u001B[0;34m.\u001B[0m\u001B[0mbestfit\u001B[0m\u001B[0;34m\u001B[0m\u001B[0;34m\u001B[0m\u001B[0m\n\u001B[0m",
      "\u001B[0;31mAttributeError\u001B[0m: 'LikeStats' object has no attribute 'bestfit'"
     ]
    }
   ],
   "source": [
    "test=baseline_gdsamples.likeStats.bestfit"
   ],
   "metadata": {
    "collapsed": false,
    "pycharm": {
     "name": "#%%\n"
    }
   }
  },
  {
   "cell_type": "code",
   "execution_count": 11,
   "outputs": [
    {
     "name": "stdout",
     "output_type": "stream",
     "text": [
      "Best fit sample -log(Like) = -49.466009\n",
      "Ln(mean 1/like) = -48.048324\n",
      "mean(-Ln(like)) = -48.972227\n",
      "-Ln(mean like)  = -49.132091\n",
      "\n",
      "parameter               bestfit        lower1         upper1         lower2         upper2\n",
      "q0                      7.5635864E-01  7.3491587E-01  7.7775076E-01  7.1098939E-01  8.0177907E-01   q0\n",
      "chi2*                  -1.0031831E+02 -1.0031831E+02 -9.9398155E+01 -1.0031831E+02 -9.6193495E+01   \\chi^2\n",
      "chi2__noisy_data_like* -1.0031831E+02 -1.0031831E+02 -9.9398155E+01 -1.0031831E+02 -9.6193495E+01   \\chi^2_\\mathrm{noisy\\ data\\ like}\n",
      "\n"
     ]
    }
   ],
   "source": [],
   "metadata": {
    "collapsed": false,
    "pycharm": {
     "name": "#%%\n"
    }
   }
  },
  {
   "cell_type": "code",
   "execution_count": 32,
   "outputs": [
    {
     "ename": "KeyboardInterrupt",
     "evalue": "",
     "output_type": "error",
     "traceback": [
      "\u001B[0;31m---------------------------------------------------------------------------\u001B[0m",
      "\u001B[0;31mKeyboardInterrupt\u001B[0m                         Traceback (most recent call last)",
      "\u001B[0;32m<ipython-input-32-c35aa1c7efc4>\u001B[0m in \u001B[0;36m<module>\u001B[0;34m\u001B[0m\n\u001B[0;32m----> 1\u001B[0;31m \u001B[0mbaseline_gdsamples\u001B[0m\u001B[0;34m.\u001B[0m\u001B[0mgetParamBestFitDict\u001B[0m\u001B[0;34m(\u001B[0m\u001B[0;34m)\u001B[0m\u001B[0;34m\u001B[0m\u001B[0;34m\u001B[0m\u001B[0m\n\u001B[0m",
      "\u001B[0;32m~/anaconda3/envs/py39/lib/python3.9/site-packages/getdist/mcsamples.py\u001B[0m in \u001B[0;36mgetParamBestFitDict\u001B[0;34m(self, best_sample, want_derived, want_fixed, max_posterior)\u001B[0m\n\u001B[1;32m   2338\u001B[0m         \u001B[0;34m:\u001B[0m\u001B[0;32mreturn\u001B[0m\u001B[0;34m:\u001B[0m \u001B[0mordered\u001B[0m \u001B[0mdictionary\u001B[0m \u001B[0mof\u001B[0m \u001B[0mparameter\u001B[0m \u001B[0mvalues\u001B[0m\u001B[0;34m\u001B[0m\u001B[0;34m\u001B[0m\u001B[0m\n\u001B[1;32m   2339\u001B[0m         \"\"\"\n\u001B[0;32m-> 2340\u001B[0;31m         \u001B[0;32mif\u001B[0m \u001B[0mbest_sample\u001B[0m\u001B[0;34m:\u001B[0m\u001B[0;34m\u001B[0m\u001B[0;34m\u001B[0m\u001B[0m\n\u001B[0m\u001B[1;32m   2341\u001B[0m             \u001B[0;32mif\u001B[0m \u001B[0;32mnot\u001B[0m \u001B[0mmax_posterior\u001B[0m\u001B[0;34m:\u001B[0m\u001B[0;34m\u001B[0m\u001B[0;34m\u001B[0m\u001B[0m\n\u001B[1;32m   2342\u001B[0m                 \u001B[0;32mraise\u001B[0m \u001B[0mValueError\u001B[0m\u001B[0;34m(\u001B[0m\u001B[0;34m'best_fit_sample is only maximum posterior'\u001B[0m\u001B[0;34m)\u001B[0m\u001B[0;34m\u001B[0m\u001B[0;34m\u001B[0m\u001B[0m\n",
      "\u001B[0;32m~/anaconda3/envs/py39/lib/python3.9/site-packages/getdist/mcsamples.py\u001B[0m in \u001B[0;36mgetParamBestFitDict\u001B[0;34m(self, best_sample, want_derived, want_fixed, max_posterior)\u001B[0m\n\u001B[1;32m   2338\u001B[0m         \u001B[0;34m:\u001B[0m\u001B[0;32mreturn\u001B[0m\u001B[0;34m:\u001B[0m \u001B[0mordered\u001B[0m \u001B[0mdictionary\u001B[0m \u001B[0mof\u001B[0m \u001B[0mparameter\u001B[0m \u001B[0mvalues\u001B[0m\u001B[0;34m\u001B[0m\u001B[0;34m\u001B[0m\u001B[0m\n\u001B[1;32m   2339\u001B[0m         \"\"\"\n\u001B[0;32m-> 2340\u001B[0;31m         \u001B[0;32mif\u001B[0m \u001B[0mbest_sample\u001B[0m\u001B[0;34m:\u001B[0m\u001B[0;34m\u001B[0m\u001B[0;34m\u001B[0m\u001B[0m\n\u001B[0m\u001B[1;32m   2341\u001B[0m             \u001B[0;32mif\u001B[0m \u001B[0;32mnot\u001B[0m \u001B[0mmax_posterior\u001B[0m\u001B[0;34m:\u001B[0m\u001B[0;34m\u001B[0m\u001B[0;34m\u001B[0m\u001B[0m\n\u001B[1;32m   2342\u001B[0m                 \u001B[0;32mraise\u001B[0m \u001B[0mValueError\u001B[0m\u001B[0;34m(\u001B[0m\u001B[0;34m'best_fit_sample is only maximum posterior'\u001B[0m\u001B[0;34m)\u001B[0m\u001B[0;34m\u001B[0m\u001B[0;34m\u001B[0m\u001B[0m\n",
      "\u001B[0;32m/snap/pycharm-professional/271/plugins/python/helpers/pydev/_pydevd_bundle/pydevd_frame.py\u001B[0m in \u001B[0;36mtrace_dispatch\u001B[0;34m(self, frame, event, arg)\u001B[0m\n\u001B[1;32m    878\u001B[0m \u001B[0;34m\u001B[0m\u001B[0m\n\u001B[1;32m    879\u001B[0m                 \u001B[0;32mif\u001B[0m \u001B[0mplugin_stop\u001B[0m\u001B[0;34m:\u001B[0m\u001B[0;34m\u001B[0m\u001B[0;34m\u001B[0m\u001B[0m\n\u001B[0;32m--> 880\u001B[0;31m                     \u001B[0mstopped_on_plugin\u001B[0m \u001B[0;34m=\u001B[0m \u001B[0mplugin_manager\u001B[0m\u001B[0;34m.\u001B[0m\u001B[0mstop\u001B[0m\u001B[0;34m(\u001B[0m\u001B[0mmain_debugger\u001B[0m\u001B[0;34m,\u001B[0m \u001B[0mframe\u001B[0m\u001B[0;34m,\u001B[0m \u001B[0mevent\u001B[0m\u001B[0;34m,\u001B[0m \u001B[0mself\u001B[0m\u001B[0;34m.\u001B[0m\u001B[0m_args\u001B[0m\u001B[0;34m,\u001B[0m \u001B[0mstop_info\u001B[0m\u001B[0;34m,\u001B[0m \u001B[0marg\u001B[0m\u001B[0;34m,\u001B[0m \u001B[0mstep_cmd\u001B[0m\u001B[0;34m)\u001B[0m\u001B[0;34m\u001B[0m\u001B[0;34m\u001B[0m\u001B[0m\n\u001B[0m\u001B[1;32m    881\u001B[0m                 \u001B[0;32melif\u001B[0m \u001B[0mstop\u001B[0m\u001B[0;34m:\u001B[0m\u001B[0;34m\u001B[0m\u001B[0;34m\u001B[0m\u001B[0m\n\u001B[1;32m    882\u001B[0m                     \u001B[0;32mif\u001B[0m \u001B[0mis_line\u001B[0m\u001B[0;34m:\u001B[0m\u001B[0;34m\u001B[0m\u001B[0;34m\u001B[0m\u001B[0m\n",
      "\u001B[0;32m/snap/pycharm-professional/271/plugins/python/helpers-pro/jupyter_debug/pydev_jupyter_plugin.py\u001B[0m in \u001B[0;36mstop\u001B[0;34m(plugin, pydb, frame, event, args, stop_info, arg, step_cmd)\u001B[0m\n\u001B[1;32m    163\u001B[0m         \u001B[0mframe\u001B[0m \u001B[0;34m=\u001B[0m \u001B[0msuspend_jupyter\u001B[0m\u001B[0;34m(\u001B[0m\u001B[0mmain_debugger\u001B[0m\u001B[0;34m,\u001B[0m \u001B[0mthread\u001B[0m\u001B[0;34m,\u001B[0m \u001B[0mframe\u001B[0m\u001B[0;34m,\u001B[0m \u001B[0mstep_cmd\u001B[0m\u001B[0;34m)\u001B[0m\u001B[0;34m\u001B[0m\u001B[0;34m\u001B[0m\u001B[0m\n\u001B[1;32m    164\u001B[0m         \u001B[0;32mif\u001B[0m \u001B[0mframe\u001B[0m\u001B[0;34m:\u001B[0m\u001B[0;34m\u001B[0m\u001B[0;34m\u001B[0m\u001B[0m\n\u001B[0;32m--> 165\u001B[0;31m             \u001B[0mmain_debugger\u001B[0m\u001B[0;34m.\u001B[0m\u001B[0mdo_wait_suspend\u001B[0m\u001B[0;34m(\u001B[0m\u001B[0mthread\u001B[0m\u001B[0;34m,\u001B[0m \u001B[0mframe\u001B[0m\u001B[0;34m,\u001B[0m \u001B[0mevent\u001B[0m\u001B[0;34m,\u001B[0m \u001B[0marg\u001B[0m\u001B[0;34m)\u001B[0m\u001B[0;34m\u001B[0m\u001B[0;34m\u001B[0m\u001B[0m\n\u001B[0m\u001B[1;32m    166\u001B[0m             \u001B[0;32mreturn\u001B[0m \u001B[0;32mTrue\u001B[0m\u001B[0;34m\u001B[0m\u001B[0;34m\u001B[0m\u001B[0m\n\u001B[1;32m    167\u001B[0m     \u001B[0;32mreturn\u001B[0m \u001B[0;32mFalse\u001B[0m\u001B[0;34m\u001B[0m\u001B[0;34m\u001B[0m\u001B[0m\n",
      "\u001B[0;32m/snap/pycharm-professional/271/plugins/python/helpers/pydev/pydevd.py\u001B[0m in \u001B[0;36mdo_wait_suspend\u001B[0;34m(self, thread, frame, event, arg, send_suspend_message, is_unhandled_exception)\u001B[0m\n\u001B[1;32m   1145\u001B[0m \u001B[0;34m\u001B[0m\u001B[0m\n\u001B[1;32m   1146\u001B[0m         \u001B[0;32mwith\u001B[0m \u001B[0mself\u001B[0m\u001B[0;34m.\u001B[0m\u001B[0m_threads_suspended_single_notification\u001B[0m\u001B[0;34m.\u001B[0m\u001B[0mnotify_thread_suspended\u001B[0m\u001B[0;34m(\u001B[0m\u001B[0mthread_id\u001B[0m\u001B[0;34m,\u001B[0m \u001B[0mstop_reason\u001B[0m\u001B[0;34m)\u001B[0m\u001B[0;34m:\u001B[0m\u001B[0;34m\u001B[0m\u001B[0;34m\u001B[0m\u001B[0m\n\u001B[0;32m-> 1147\u001B[0;31m             \u001B[0mself\u001B[0m\u001B[0;34m.\u001B[0m\u001B[0m_do_wait_suspend\u001B[0m\u001B[0;34m(\u001B[0m\u001B[0mthread\u001B[0m\u001B[0;34m,\u001B[0m \u001B[0mframe\u001B[0m\u001B[0;34m,\u001B[0m \u001B[0mevent\u001B[0m\u001B[0;34m,\u001B[0m \u001B[0marg\u001B[0m\u001B[0;34m,\u001B[0m \u001B[0msuspend_type\u001B[0m\u001B[0;34m,\u001B[0m \u001B[0mfrom_this_thread\u001B[0m\u001B[0;34m)\u001B[0m\u001B[0;34m\u001B[0m\u001B[0;34m\u001B[0m\u001B[0m\n\u001B[0m\u001B[1;32m   1148\u001B[0m \u001B[0;34m\u001B[0m\u001B[0m\n\u001B[1;32m   1149\u001B[0m     \u001B[0;32mdef\u001B[0m \u001B[0m_do_wait_suspend\u001B[0m\u001B[0;34m(\u001B[0m\u001B[0mself\u001B[0m\u001B[0;34m,\u001B[0m \u001B[0mthread\u001B[0m\u001B[0;34m,\u001B[0m \u001B[0mframe\u001B[0m\u001B[0;34m,\u001B[0m \u001B[0mevent\u001B[0m\u001B[0;34m,\u001B[0m \u001B[0marg\u001B[0m\u001B[0;34m,\u001B[0m \u001B[0msuspend_type\u001B[0m\u001B[0;34m,\u001B[0m \u001B[0mfrom_this_thread\u001B[0m\u001B[0;34m)\u001B[0m\u001B[0;34m:\u001B[0m\u001B[0;34m\u001B[0m\u001B[0;34m\u001B[0m\u001B[0m\n",
      "\u001B[0;32m/snap/pycharm-professional/271/plugins/python/helpers/pydev/pydevd.py\u001B[0m in \u001B[0;36m_do_wait_suspend\u001B[0;34m(self, thread, frame, event, arg, suspend_type, from_this_thread)\u001B[0m\n\u001B[1;32m   1160\u001B[0m \u001B[0;34m\u001B[0m\u001B[0m\n\u001B[1;32m   1161\u001B[0m                 \u001B[0mself\u001B[0m\u001B[0;34m.\u001B[0m\u001B[0mprocess_internal_commands\u001B[0m\u001B[0;34m(\u001B[0m\u001B[0;34m)\u001B[0m\u001B[0;34m\u001B[0m\u001B[0;34m\u001B[0m\u001B[0m\n\u001B[0;32m-> 1162\u001B[0;31m                 \u001B[0mtime\u001B[0m\u001B[0;34m.\u001B[0m\u001B[0msleep\u001B[0m\u001B[0;34m(\u001B[0m\u001B[0;36m0.01\u001B[0m\u001B[0;34m)\u001B[0m\u001B[0;34m\u001B[0m\u001B[0;34m\u001B[0m\u001B[0m\n\u001B[0m\u001B[1;32m   1163\u001B[0m \u001B[0;34m\u001B[0m\u001B[0m\n\u001B[1;32m   1164\u001B[0m         \u001B[0mself\u001B[0m\u001B[0;34m.\u001B[0m\u001B[0mcancel_async_evaluation\u001B[0m\u001B[0;34m(\u001B[0m\u001B[0mget_current_thread_id\u001B[0m\u001B[0;34m(\u001B[0m\u001B[0mthread\u001B[0m\u001B[0;34m)\u001B[0m\u001B[0;34m,\u001B[0m \u001B[0mstr\u001B[0m\u001B[0;34m(\u001B[0m\u001B[0mid\u001B[0m\u001B[0;34m(\u001B[0m\u001B[0mframe\u001B[0m\u001B[0;34m)\u001B[0m\u001B[0;34m)\u001B[0m\u001B[0;34m)\u001B[0m\u001B[0;34m\u001B[0m\u001B[0;34m\u001B[0m\u001B[0m\n",
      "\u001B[0;31mKeyboardInterrupt\u001B[0m: "
     ]
    }
   ],
   "source": [
    "baseline_gdsamples.getParamBestFitDict(max_posterior=False)"
   ],
   "metadata": {
    "collapsed": false,
    "pycharm": {
     "name": "#%%\n"
    }
   }
  },
  {
   "cell_type": "code",
   "execution_count": 30,
   "outputs": [
    {
     "data": {
      "text/plain": "      weight  minuslogpost        q0  minuslogprior  minuslogprior__0  \\\n0       23.0    -49.183620  0.773170       0.693147          0.693147   \n1       28.0    -49.409011  0.748816       0.693147          0.693147   \n2       20.0    -47.328852  0.802595       0.693147          0.693147   \n3       43.0    -49.336591  0.744989       0.693147          0.693147   \n4       52.0    -49.442528  0.761211       0.693147          0.693147   \n...      ...           ...       ...            ...               ...   \n2475     1.0    -48.993829  0.734636       0.693147          0.693147   \n2476     7.0    -48.894822  0.732466       0.693147          0.693147   \n2477     2.0    -49.463111  0.758068       0.693147          0.693147   \n2478     1.0    -49.427107  0.762602       0.693147          0.693147   \n2479     7.0    -48.834893  0.781487       0.693147          0.693147   \n\n            chi2  chi2__noisy_data_like  \n0     -99.753534             -99.753534  \n1    -100.204316            -100.204316  \n2     -96.043998             -96.043998  \n3    -100.059476            -100.059476  \n4    -100.271349            -100.271349  \n...          ...                    ...  \n2475  -99.373952             -99.373952  \n2476  -99.175938             -99.175938  \n2477 -100.312516            -100.312516  \n2478 -100.240509            -100.240509  \n2479  -99.056080             -99.056080  \n\n[2480 rows x 7 columns]"
     },
     "execution_count": 30,
     "metadata": {},
     "output_type": "execute_result"
    }
   ],
   "source": [
    "baseline_sampler.products()['sample']"
   ],
   "metadata": {
    "collapsed": false,
    "pycharm": {
     "name": "#%%\n"
    }
   }
  },
  {
   "cell_type": "code",
   "execution_count": 33,
   "outputs": [
    {
     "ename": "TypeError",
     "evalue": "unsupported operand type(s) for +: 'NoneType' and 'str'",
     "output_type": "error",
     "traceback": [
      "\u001B[0;31m---------------------------------------------------------------------------\u001B[0m",
      "\u001B[0;31mTypeError\u001B[0m                                 Traceback (most recent call last)",
      "\u001B[0;32m<ipython-input-33-76accf4dad4d>\u001B[0m in \u001B[0;36m<module>\u001B[0;34m\u001B[0m\n\u001B[0;32m----> 1\u001B[0;31m \u001B[0mbaseline_gdsamples\u001B[0m\u001B[0;34m.\u001B[0m\u001B[0mgetParamBestFitDict\u001B[0m\u001B[0;34m(\u001B[0m\u001B[0mmax_posterior\u001B[0m\u001B[0;34m=\u001B[0m\u001B[0;32mFalse\u001B[0m\u001B[0;34m)\u001B[0m\u001B[0;34m\u001B[0m\u001B[0;34m\u001B[0m\u001B[0m\n\u001B[0m",
      "\u001B[0;32m~/anaconda3/envs/py39/lib/python3.9/site-packages/getdist/mcsamples.py\u001B[0m in \u001B[0;36mgetParamBestFitDict\u001B[0;34m(self, best_sample, want_derived, want_fixed, max_posterior)\u001B[0m\n\u001B[1;32m   2343\u001B[0m             \u001B[0;32mreturn\u001B[0m \u001B[0mself\u001B[0m\u001B[0;34m.\u001B[0m\u001B[0mgetParamSampleDict\u001B[0m\u001B[0;34m(\u001B[0m\u001B[0mnp\u001B[0m\u001B[0;34m.\u001B[0m\u001B[0margmin\u001B[0m\u001B[0;34m(\u001B[0m\u001B[0mself\u001B[0m\u001B[0;34m.\u001B[0m\u001B[0mloglikes\u001B[0m\u001B[0;34m)\u001B[0m\u001B[0;34m)\u001B[0m\u001B[0;34m\u001B[0m\u001B[0;34m\u001B[0m\u001B[0m\n\u001B[1;32m   2344\u001B[0m         \u001B[0;32melse\u001B[0m\u001B[0;34m:\u001B[0m\u001B[0;34m\u001B[0m\u001B[0;34m\u001B[0m\u001B[0m\n\u001B[0;32m-> 2345\u001B[0;31m             \u001B[0mres\u001B[0m \u001B[0;34m=\u001B[0m \u001B[0mself\u001B[0m\u001B[0;34m.\u001B[0m\u001B[0mgetBestFit\u001B[0m\u001B[0;34m(\u001B[0m\u001B[0mmax_posterior\u001B[0m\u001B[0;34m=\u001B[0m\u001B[0mmax_posterior\u001B[0m\u001B[0;34m)\u001B[0m\u001B[0;34m.\u001B[0m\u001B[0mgetParamDict\u001B[0m\u001B[0;34m(\u001B[0m\u001B[0minclude_derived\u001B[0m\u001B[0;34m=\u001B[0m\u001B[0mwant_derived\u001B[0m\u001B[0;34m)\u001B[0m\u001B[0;34m\u001B[0m\u001B[0;34m\u001B[0m\u001B[0m\n\u001B[0m\u001B[1;32m   2346\u001B[0m         \u001B[0;32mif\u001B[0m \u001B[0mwant_fixed\u001B[0m\u001B[0;34m:\u001B[0m\u001B[0;34m\u001B[0m\u001B[0;34m\u001B[0m\u001B[0m\n\u001B[1;32m   2347\u001B[0m             \u001B[0mres\u001B[0m\u001B[0;34m.\u001B[0m\u001B[0mupdate\u001B[0m\u001B[0;34m(\u001B[0m\u001B[0mself\u001B[0m\u001B[0;34m.\u001B[0m\u001B[0mranges\u001B[0m\u001B[0;34m.\u001B[0m\u001B[0mfixedValueDict\u001B[0m\u001B[0;34m(\u001B[0m\u001B[0;34m)\u001B[0m\u001B[0;34m)\u001B[0m\u001B[0;34m\u001B[0m\u001B[0;34m\u001B[0m\u001B[0m\n",
      "\u001B[0;32m~/anaconda3/envs/py39/lib/python3.9/site-packages/getdist/mcsamples.py\u001B[0m in \u001B[0;36mgetBestFit\u001B[0;34m(self, max_posterior)\u001B[0m\n\u001B[1;32m   2096\u001B[0m         \"\"\"\n\u001B[1;32m   2097\u001B[0m         \u001B[0mext\u001B[0m \u001B[0;34m=\u001B[0m \u001B[0;34m'.minimum'\u001B[0m \u001B[0;32mif\u001B[0m \u001B[0mmax_posterior\u001B[0m \u001B[0;32melse\u001B[0m \u001B[0;34m'.bestfit'\u001B[0m\u001B[0;34m\u001B[0m\u001B[0;34m\u001B[0m\u001B[0m\n\u001B[0;32m-> 2098\u001B[0;31m         \u001B[0mbf_file\u001B[0m \u001B[0;34m=\u001B[0m \u001B[0mself\u001B[0m\u001B[0;34m.\u001B[0m\u001B[0mroot\u001B[0m \u001B[0;34m+\u001B[0m \u001B[0mext\u001B[0m\u001B[0;34m\u001B[0m\u001B[0;34m\u001B[0m\u001B[0m\n\u001B[0m\u001B[1;32m   2099\u001B[0m         \u001B[0;32mif\u001B[0m \u001B[0mos\u001B[0m\u001B[0;34m.\u001B[0m\u001B[0mpath\u001B[0m\u001B[0;34m.\u001B[0m\u001B[0mexists\u001B[0m\u001B[0;34m(\u001B[0m\u001B[0mbf_file\u001B[0m\u001B[0;34m)\u001B[0m\u001B[0;34m:\u001B[0m\u001B[0;34m\u001B[0m\u001B[0;34m\u001B[0m\u001B[0m\n\u001B[1;32m   2100\u001B[0m             \u001B[0;32mreturn\u001B[0m \u001B[0mtypes\u001B[0m\u001B[0;34m.\u001B[0m\u001B[0mBestFit\u001B[0m\u001B[0;34m(\u001B[0m\u001B[0mbf_file\u001B[0m\u001B[0;34m,\u001B[0m \u001B[0mmax_posterior\u001B[0m\u001B[0;34m=\u001B[0m\u001B[0mmax_posterior\u001B[0m\u001B[0;34m)\u001B[0m\u001B[0;34m\u001B[0m\u001B[0;34m\u001B[0m\u001B[0m\n",
      "\u001B[0;31mTypeError\u001B[0m: unsupported operand type(s) for +: 'NoneType' and 'str'"
     ]
    }
   ],
   "source": [
    "baseline_gdsamples.getParamBestFitDict(max_posterior=False)"
   ],
   "metadata": {
    "collapsed": false,
    "pycharm": {
     "name": "#%%\n"
    }
   }
  },
  {
   "cell_type": "code",
   "execution_count": 34,
   "outputs": [
    {
     "data": {
      "text/plain": "{'weight': 3.0,\n 'loglike': -49.466008910381426,\n 'q0': 0.7563586448274913,\n 'chi2': -100.31831218188275,\n 'chi2__noisy_data_like': -100.31831218188275,\n 'minuslogprior': 0.6931471805599453,\n 'minuslogprior__0': 0.6931471805599453}"
     },
     "execution_count": 34,
     "metadata": {},
     "output_type": "execute_result"
    }
   ],
   "source": [
    "baseline_gdsamples.getParamSampleDict(np.argmin(baseline_gdsamples.loglikes))"
   ],
   "metadata": {
    "collapsed": false,
    "pycharm": {
     "name": "#%%\n"
    }
   }
  },
  {
   "cell_type": "code",
   "execution_count": 35,
   "outputs": [
    {
     "data": {
      "text/plain": "2095"
     },
     "execution_count": 35,
     "metadata": {},
     "output_type": "execute_result"
    }
   ],
   "source": [
    "np.argmin(baseline_gdsamples.loglikes)"
   ],
   "metadata": {
    "collapsed": false,
    "pycharm": {
     "name": "#%%\n"
    }
   }
  },
  {
   "cell_type": "code",
   "execution_count": 49,
   "outputs": [],
   "source": [
    "Hess = nd.Derivative(baseline_noisy_data_logp,n=2)"
   ],
   "metadata": {
    "collapsed": false,
    "pycharm": {
     "name": "#%%\n"
    }
   }
  },
  {
   "cell_type": "code",
   "execution_count": 55,
   "outputs": [
    {
     "data": {
      "text/plain": "array(-2000.)"
     },
     "execution_count": 55,
     "metadata": {},
     "output_type": "execute_result"
    }
   ],
   "source": [
    "Hess(baseline_gdsamples.getParamSampleDict(np.argmin(baseline_gdsamples.loglikes))['q0'])"
   ],
   "metadata": {
    "collapsed": false,
    "pycharm": {
     "name": "#%%\n"
    }
   }
  },
  {
   "cell_type": "code",
   "execution_count": 42,
   "outputs": [
    {
     "data": {
      "text/plain": "array([0.75635864])"
     },
     "execution_count": 42,
     "metadata": {},
     "output_type": "execute_result"
    }
   ],
   "source": [
    "np.array([baseline_gdsamples.getParamSampleDict(np.argmin(baseline_gdsamples.loglikes))[k] for k in baseline_model_keys])"
   ],
   "metadata": {
    "collapsed": false,
    "pycharm": {
     "name": "#%%\n"
    }
   }
  },
  {
   "cell_type": "code",
   "execution_count": 46,
   "outputs": [
    {
     "data": {
      "text/plain": "array([0.75635864])"
     },
     "execution_count": 46,
     "metadata": {},
     "output_type": "execute_result"
    }
   ],
   "source": [
    "np.array([baseline_gdsamples.getParamSampleDict(np.argmin(baseline_gdsamples.loglikes))[k] for k in baseline_model_keys])"
   ],
   "metadata": {
    "collapsed": false,
    "pycharm": {
     "name": "#%%\n"
    }
   }
  },
  {
   "cell_type": "code",
   "execution_count": 51,
   "outputs": [
    {
     "data": {
      "text/plain": "-76.83708461031425"
     },
     "execution_count": 51,
     "metadata": {},
     "output_type": "execute_result"
    }
   ],
   "source": [
    "baseline_noisy_data_logp(0.4)"
   ],
   "metadata": {
    "collapsed": false,
    "pycharm": {
     "name": "#%%\n"
    }
   }
  },
  {
   "cell_type": "code",
   "execution_count": 34,
   "outputs": [],
   "source": [
    "def extnd_noisy_data_logp_of_vec(coefs):\n",
    "        return extnd_noisy_data_logp(*coefs)\n",
    "\n",
    "extnd_hess = nd.Hessian(extnd_noisy_data_logp_of_vec)\n"
   ],
   "metadata": {
    "collapsed": false,
    "pycharm": {
     "name": "#%%\n"
    }
   }
  },
  {
   "cell_type": "code",
   "execution_count": 35,
   "outputs": [
    {
     "data": {
      "text/plain": "array([[-2.00000000e+03, -2.72735549e-15, -6.80134680e+02],\n       [-2.72735549e-15, -6.80134680e+02,  0.00000000e+00],\n       [-6.80134680e+02,  0.00000000e+00, -4.16269349e+02]])"
     },
     "execution_count": 35,
     "metadata": {},
     "output_type": "execute_result"
    }
   ],
   "source": [
    "extnd_hess(np.array([extnd_gdsamples.getParamSampleDict(np.argmin(extnd_gdsamples.loglikes))[k] for k in extnd_model_keys]))"
   ],
   "metadata": {
    "collapsed": false,
    "pycharm": {
     "name": "#%%\n"
    }
   }
  },
  {
   "cell_type": "code",
   "execution_count": 59,
   "outputs": [
    {
     "data": {
      "text/plain": "array([0.74838972, 0.11809471, 0.02112838])"
     },
     "execution_count": 59,
     "metadata": {},
     "output_type": "execute_result"
    }
   ],
   "source": [
    "np.array([extnd_gdsamples.getParamSampleDict(np.argmin(extnd_gdsamples.loglikes))[k] for k in extnd_model_keys])"
   ],
   "metadata": {
    "collapsed": false,
    "pycharm": {
     "name": "#%%\n"
    }
   }
  },
  {
   "cell_type": "code",
   "execution_count": 67,
   "outputs": [
    {
     "data": {
      "text/plain": "-521.929339989716"
     },
     "execution_count": 67,
     "metadata": {},
     "output_type": "execute_result"
    }
   ],
   "source": [
    "extnd_noisy_data_logp(*np.array([0,0,0]))"
   ],
   "metadata": {
    "collapsed": false,
    "pycharm": {
     "name": "#%%\n"
    }
   }
  },
  {
   "cell_type": "code",
   "execution_count": 69,
   "outputs": [],
   "source": [
    "extnd_noisy_data_logp_of_vec(np.array([0,0,0]))"
   ],
   "metadata": {
    "collapsed": false,
    "pycharm": {
     "name": "#%%\n"
    }
   }
  },
  {
   "cell_type": "code",
   "execution_count": 12,
   "outputs": [],
   "source": [
    "extnd_model_order  =  pert_max+1\n",
    "extnd_model_keys =  tuple('q'+str(i) for i in range(extnd_model_order))\n",
    "extnd_model_csv_keys = ','.join(extnd_model_keys)\n",
    "extnd_model_ranges = dict((k,(-1,1)) for k in extnd_model_keys)\n",
    "\n",
    "def get_extnd_polynomial_vals(coefs):\n",
    "        return np.polynomial.Polynomial(coefs)(sample_points)\n",
    "\n",
    "def extnd_noisy_data_logp(coefs):\n",
    "        return stats.multivariate_normal.logpdf(get_extnd_polynomial_vals(coefs), mean=sample_observed, cov=sample_std_dev)"
   ],
   "metadata": {
    "collapsed": false,
    "pycharm": {
     "name": "#%%\n"
    }
   }
  },
  {
   "cell_type": "code",
   "execution_count": null,
   "outputs": [],
   "source": [
    "\n",
    "extnd_likelihood_info = {'noisy_data_like': extnd_noisy_data_logp}\n",
    "extnd_params_info = {k: {\"prior\": {\"min\": -1, \"max\": 1},\"drop\":True} for k in extnd_model_keys}\n",
    "extnd_params_info['coefs'] = {'value':\"lambda \"+','.join(extnd_model_keys)+\": [\"+','.join(extnd_model_keys)+\"]\",\n",
    "                              'derived':False}\n",
    "extnd_sampler_info = {'mcmc':{'Rminus1_stop': 0.001, 'max_tries':1000}}\n",
    "extnd_info = {'likelihood': extnd_likelihood_info,\n",
    "        'params': extnd_params_info,\n",
    "        'sampler': extnd_sampler_info}\n",
    "\n",
    "extnd_updated_info, extnd_sampler = run(extnd_info)\n",
    "extnd_gdsamples = MCSamplesFromCobaya(extnd_updated_info, extnd_sampler.products()[\"sample\"])\n",
    "gdplot = gdplt.get_subplot_plotter(width_inch=5)\n",
    "gdplot.triangle_plot(extnd_gdsamples, extnd_model_keys, filled=True)"
   ],
   "metadata": {
    "collapsed": false,
    "pycharm": {
     "name": "#%%\n"
    }
   }
  },
  {
   "cell_type": "code",
   "execution_count": 39,
   "outputs": [
    {
     "ename": "TypeError",
     "evalue": "get_extnd_polynomial_vals() missing 2 required positional arguments: 'q1' and 'q2'",
     "output_type": "error",
     "traceback": [
      "\u001B[0;31m---------------------------------------------------------------------------\u001B[0m",
      "\u001B[0;31mTypeError\u001B[0m                                 Traceback (most recent call last)",
      "\u001B[0;32m<ipython-input-39-8ac90146ecc2>\u001B[0m in \u001B[0;36m<module>\u001B[0;34m\u001B[0m\n\u001B[0;32m----> 1\u001B[0;31m \u001B[0mnd\u001B[0m\u001B[0;34m.\u001B[0m\u001B[0mHessian\u001B[0m\u001B[0;34m(\u001B[0m\u001B[0mget_extnd_polynomial_vals\u001B[0m\u001B[0;34m)\u001B[0m\u001B[0;34m(\u001B[0m\u001B[0mnp\u001B[0m\u001B[0;34m.\u001B[0m\u001B[0marray\u001B[0m\u001B[0;34m(\u001B[0m\u001B[0;34m[\u001B[0m\u001B[0;36m0\u001B[0m\u001B[0;34m,\u001B[0m\u001B[0;36m0\u001B[0m\u001B[0;34m,\u001B[0m\u001B[0;36m0\u001B[0m\u001B[0;34m]\u001B[0m\u001B[0;34m)\u001B[0m\u001B[0;34m)\u001B[0m\u001B[0;34m\u001B[0m\u001B[0;34m\u001B[0m\u001B[0m\n\u001B[0m",
      "\u001B[0;32m~/anaconda3/envs/py39/lib/python3.9/site-packages/numdifftools/core.py\u001B[0m in \u001B[0;36m__call__\u001B[0;34m(self, x, *args, **kwds)\u001B[0m\n\u001B[1;32m    847\u001B[0m \u001B[0;34m\u001B[0m\u001B[0m\n\u001B[1;32m    848\u001B[0m     \u001B[0;32mdef\u001B[0m \u001B[0m__call__\u001B[0m\u001B[0;34m(\u001B[0m\u001B[0mself\u001B[0m\u001B[0;34m,\u001B[0m \u001B[0mx\u001B[0m\u001B[0;34m,\u001B[0m \u001B[0;34m*\u001B[0m\u001B[0margs\u001B[0m\u001B[0;34m,\u001B[0m \u001B[0;34m**\u001B[0m\u001B[0mkwds\u001B[0m\u001B[0;34m)\u001B[0m\u001B[0;34m:\u001B[0m\u001B[0;34m\u001B[0m\u001B[0;34m\u001B[0m\u001B[0m\n\u001B[0;32m--> 849\u001B[0;31m         \u001B[0;32mreturn\u001B[0m \u001B[0msuper\u001B[0m\u001B[0;34m(\u001B[0m\u001B[0mHessdiag\u001B[0m\u001B[0;34m,\u001B[0m \u001B[0mself\u001B[0m\u001B[0;34m)\u001B[0m\u001B[0;34m.\u001B[0m\u001B[0m__call__\u001B[0m\u001B[0;34m(\u001B[0m\u001B[0mnp\u001B[0m\u001B[0;34m.\u001B[0m\u001B[0matleast_1d\u001B[0m\u001B[0;34m(\u001B[0m\u001B[0mx\u001B[0m\u001B[0;34m)\u001B[0m\u001B[0;34m,\u001B[0m \u001B[0;34m*\u001B[0m\u001B[0margs\u001B[0m\u001B[0;34m,\u001B[0m \u001B[0;34m**\u001B[0m\u001B[0mkwds\u001B[0m\u001B[0;34m)\u001B[0m\u001B[0;34m\u001B[0m\u001B[0;34m\u001B[0m\u001B[0m\n\u001B[0m\u001B[1;32m    850\u001B[0m \u001B[0;34m\u001B[0m\u001B[0m\n\u001B[1;32m    851\u001B[0m \u001B[0;34m\u001B[0m\u001B[0m\n",
      "\u001B[0;32m~/anaconda3/envs/py39/lib/python3.9/site-packages/numdifftools/core.py\u001B[0m in \u001B[0;36m__call__\u001B[0;34m(self, x, *args, **kwds)\u001B[0m\n\u001B[1;32m    374\u001B[0m     \u001B[0;32mdef\u001B[0m \u001B[0m__call__\u001B[0m\u001B[0;34m(\u001B[0m\u001B[0mself\u001B[0m\u001B[0;34m,\u001B[0m \u001B[0mx\u001B[0m\u001B[0;34m,\u001B[0m \u001B[0;34m*\u001B[0m\u001B[0margs\u001B[0m\u001B[0;34m,\u001B[0m \u001B[0;34m**\u001B[0m\u001B[0mkwds\u001B[0m\u001B[0;34m)\u001B[0m\u001B[0;34m:\u001B[0m\u001B[0;34m\u001B[0m\u001B[0;34m\u001B[0m\u001B[0m\n\u001B[1;32m    375\u001B[0m         \u001B[0mxi\u001B[0m \u001B[0;34m=\u001B[0m \u001B[0mnp\u001B[0m\u001B[0;34m.\u001B[0m\u001B[0masarray\u001B[0m\u001B[0;34m(\u001B[0m\u001B[0mx\u001B[0m\u001B[0;34m)\u001B[0m\u001B[0;34m\u001B[0m\u001B[0;34m\u001B[0m\u001B[0m\n\u001B[0;32m--> 376\u001B[0;31m         \u001B[0mresults\u001B[0m \u001B[0;34m=\u001B[0m \u001B[0mself\u001B[0m\u001B[0;34m.\u001B[0m\u001B[0m_derivative\u001B[0m\u001B[0;34m(\u001B[0m\u001B[0mxi\u001B[0m\u001B[0;34m,\u001B[0m \u001B[0margs\u001B[0m\u001B[0;34m,\u001B[0m \u001B[0mkwds\u001B[0m\u001B[0;34m)\u001B[0m\u001B[0;34m\u001B[0m\u001B[0;34m\u001B[0m\u001B[0m\n\u001B[0m\u001B[1;32m    377\u001B[0m         \u001B[0mderivative\u001B[0m\u001B[0;34m,\u001B[0m \u001B[0minfo\u001B[0m \u001B[0;34m=\u001B[0m \u001B[0mself\u001B[0m\u001B[0;34m.\u001B[0m\u001B[0m_extrapolate\u001B[0m\u001B[0;34m(\u001B[0m\u001B[0;34m*\u001B[0m\u001B[0mresults\u001B[0m\u001B[0;34m)\u001B[0m\u001B[0;34m\u001B[0m\u001B[0;34m\u001B[0m\u001B[0m\n\u001B[1;32m    378\u001B[0m         \u001B[0;32mif\u001B[0m \u001B[0mself\u001B[0m\u001B[0;34m.\u001B[0m\u001B[0mfull_output\u001B[0m\u001B[0;34m:\u001B[0m\u001B[0;34m\u001B[0m\u001B[0;34m\u001B[0m\u001B[0m\n",
      "\u001B[0;32m~/anaconda3/envs/py39/lib/python3.9/site-packages/numdifftools/core.py\u001B[0m in \u001B[0;36m_derivative_nonzero_order\u001B[0;34m(self, xi, args, kwds)\u001B[0m\n\u001B[1;32m    257\u001B[0m         \u001B[0mdiff\u001B[0m\u001B[0;34m,\u001B[0m \u001B[0mf\u001B[0m \u001B[0;34m=\u001B[0m \u001B[0mself\u001B[0m\u001B[0;34m.\u001B[0m\u001B[0m_get_functions\u001B[0m\u001B[0;34m(\u001B[0m\u001B[0margs\u001B[0m\u001B[0;34m,\u001B[0m \u001B[0mkwds\u001B[0m\u001B[0;34m)\u001B[0m\u001B[0;34m\u001B[0m\u001B[0;34m\u001B[0m\u001B[0m\n\u001B[1;32m    258\u001B[0m         \u001B[0msteps\u001B[0m\u001B[0;34m,\u001B[0m \u001B[0mstep_ratio\u001B[0m \u001B[0;34m=\u001B[0m \u001B[0mself\u001B[0m\u001B[0;34m.\u001B[0m\u001B[0m_get_steps\u001B[0m\u001B[0;34m(\u001B[0m\u001B[0mxi\u001B[0m\u001B[0;34m)\u001B[0m\u001B[0;34m\u001B[0m\u001B[0;34m\u001B[0m\u001B[0m\n\u001B[0;32m--> 259\u001B[0;31m         \u001B[0mfxi\u001B[0m \u001B[0;34m=\u001B[0m \u001B[0mself\u001B[0m\u001B[0;34m.\u001B[0m\u001B[0m_eval_first\u001B[0m\u001B[0;34m(\u001B[0m\u001B[0mf\u001B[0m\u001B[0;34m,\u001B[0m \u001B[0mxi\u001B[0m\u001B[0;34m)\u001B[0m\u001B[0;34m\u001B[0m\u001B[0;34m\u001B[0m\u001B[0m\n\u001B[0m\u001B[1;32m    260\u001B[0m         \u001B[0mresults\u001B[0m \u001B[0;34m=\u001B[0m \u001B[0;34m[\u001B[0m\u001B[0mdiff\u001B[0m\u001B[0;34m(\u001B[0m\u001B[0mf\u001B[0m\u001B[0;34m,\u001B[0m \u001B[0mfxi\u001B[0m\u001B[0;34m,\u001B[0m \u001B[0mxi\u001B[0m\u001B[0;34m,\u001B[0m \u001B[0mh\u001B[0m\u001B[0;34m)\u001B[0m \u001B[0;32mfor\u001B[0m \u001B[0mh\u001B[0m \u001B[0;32min\u001B[0m \u001B[0msteps\u001B[0m\u001B[0;34m]\u001B[0m\u001B[0;34m\u001B[0m\u001B[0;34m\u001B[0m\u001B[0m\n\u001B[1;32m    261\u001B[0m \u001B[0;34m\u001B[0m\u001B[0m\n",
      "\u001B[0;32m~/anaconda3/envs/py39/lib/python3.9/site-packages/numdifftools/core.py\u001B[0m in \u001B[0;36m_eval_first\u001B[0;34m(self, f, x)\u001B[0m\n\u001B[1;32m    369\u001B[0m             \u001B[0;32mreturn\u001B[0m \u001B[0mf_x\u001B[0m\u001B[0;34m\u001B[0m\u001B[0;34m\u001B[0m\u001B[0m\n\u001B[1;32m    370\u001B[0m         \u001B[0;32mif\u001B[0m \u001B[0mself\u001B[0m\u001B[0;34m.\u001B[0m\u001B[0m_eval_first_condition\u001B[0m\u001B[0;34m(\u001B[0m\u001B[0;34m)\u001B[0m\u001B[0;34m:\u001B[0m\u001B[0;34m\u001B[0m\u001B[0;34m\u001B[0m\u001B[0m\n\u001B[0;32m--> 371\u001B[0;31m             \u001B[0;32mreturn\u001B[0m \u001B[0mf\u001B[0m\u001B[0;34m(\u001B[0m\u001B[0mx\u001B[0m\u001B[0;34m)\u001B[0m\u001B[0;34m\u001B[0m\u001B[0;34m\u001B[0m\u001B[0m\n\u001B[0m\u001B[1;32m    372\u001B[0m         \u001B[0;32mreturn\u001B[0m \u001B[0;36m0.0\u001B[0m\u001B[0;34m\u001B[0m\u001B[0;34m\u001B[0m\u001B[0m\n\u001B[1;32m    373\u001B[0m \u001B[0;34m\u001B[0m\u001B[0m\n",
      "\u001B[0;32m~/anaconda3/envs/py39/lib/python3.9/site-packages/numdifftools/core.py\u001B[0m in \u001B[0;36mexport_fun\u001B[0;34m(x)\u001B[0m\n\u001B[1;32m    323\u001B[0m \u001B[0;34m\u001B[0m\u001B[0m\n\u001B[1;32m    324\u001B[0m         \u001B[0;32mdef\u001B[0m \u001B[0mexport_fun\u001B[0m\u001B[0;34m(\u001B[0m\u001B[0mx\u001B[0m\u001B[0;34m)\u001B[0m\u001B[0;34m:\u001B[0m\u001B[0;34m\u001B[0m\u001B[0;34m\u001B[0m\u001B[0m\n\u001B[0;32m--> 325\u001B[0;31m             \u001B[0;32mreturn\u001B[0m \u001B[0mfun\u001B[0m\u001B[0;34m(\u001B[0m\u001B[0mx\u001B[0m\u001B[0;34m,\u001B[0m \u001B[0;34m*\u001B[0m\u001B[0margs\u001B[0m\u001B[0;34m,\u001B[0m \u001B[0;34m**\u001B[0m\u001B[0mkwds\u001B[0m\u001B[0;34m)\u001B[0m\u001B[0;34m\u001B[0m\u001B[0;34m\u001B[0m\u001B[0m\n\u001B[0m\u001B[1;32m    326\u001B[0m \u001B[0;34m\u001B[0m\u001B[0m\n\u001B[1;32m    327\u001B[0m         \u001B[0;32mreturn\u001B[0m \u001B[0mgetattr\u001B[0m\u001B[0;34m(\u001B[0m\u001B[0mself\u001B[0m\u001B[0;34m.\u001B[0m\u001B[0m_difference_functions\u001B[0m\u001B[0;34m,\u001B[0m \u001B[0mname\u001B[0m\u001B[0;34m)\u001B[0m\u001B[0;34m,\u001B[0m \u001B[0mexport_fun\u001B[0m\u001B[0;34m\u001B[0m\u001B[0;34m\u001B[0m\u001B[0m\n",
      "\u001B[0;31mTypeError\u001B[0m: get_extnd_polynomial_vals() missing 2 required positional arguments: 'q1' and 'q2'"
     ]
    }
   ],
   "source": [
    "f'{extnd_model_csv_keys}'"
   ],
   "metadata": {
    "collapsed": false,
    "pycharm": {
     "name": "#%%\n"
    }
   }
  },
  {
   "cell_type": "code",
   "execution_count": 26,
   "outputs": [
    {
     "data": {
      "text/plain": "array([0, 0, 0])"
     },
     "execution_count": 26,
     "metadata": {},
     "output_type": "execute_result"
    }
   ],
   "source": [
    "np.array(np.array([0,0,0]))"
   ],
   "metadata": {
    "collapsed": false,
    "pycharm": {
     "name": "#%%\n"
    }
   }
  },
  {
   "cell_type": "code",
   "execution_count": 36,
   "outputs": [
    {
     "data": {
      "text/plain": "<function __main__.get_extnd_polynomial_vals(q0, q1, q2)>"
     },
     "execution_count": 36,
     "metadata": {},
     "output_type": "execute_result"
    }
   ],
   "source": [
    "get_extnd_polynomial_vals"
   ],
   "metadata": {
    "collapsed": false,
    "pycharm": {
     "name": "#%%\n"
    }
   }
  },
  {
   "cell_type": "code",
   "execution_count": 37,
   "outputs": [],
   "source": [
    "def get_extnd_polynomial_vals2(coefs):\n",
    "        return np.polynomial.Polynomial(coefs)(sample_points)"
   ],
   "metadata": {
    "collapsed": false,
    "pycharm": {
     "name": "#%%\n"
    }
   }
  },
  {
   "cell_type": "code",
   "execution_count": 38,
   "outputs": [
    {
     "data": {
      "text/plain": "<function __main__.get_extnd_polynomial_vals2(coefs)>"
     },
     "execution_count": 38,
     "metadata": {},
     "output_type": "execute_result"
    }
   ],
   "source": [
    "get_extnd_polynomial_vals2"
   ],
   "metadata": {
    "collapsed": false,
    "pycharm": {
     "name": "#%%\n"
    }
   }
  },
  {
   "cell_type": "code",
   "execution_count": 44,
   "outputs": [
    {
     "data": {
      "text/plain": "array([1512.73063845,   79.95744617,  518.29747407])"
     },
     "execution_count": 44,
     "metadata": {},
     "output_type": "execute_result"
    }
   ],
   "source": [
    "nd.Gradient(extnd_noisy_data_logp)(np.array([0,0,0]))"
   ],
   "metadata": {
    "collapsed": false,
    "pycharm": {
     "name": "#%%\n"
    }
   }
  },
  {
   "cell_type": "code",
   "execution_count": 10,
   "outputs": [],
   "source": [
    "extnd_baeline_bestfit = [baseline_bestfit.get(k,0) for k in extnd_model_keys]"
   ],
   "metadata": {
    "collapsed": false,
    "pycharm": {
     "name": "#%%\n"
    }
   }
  },
  {
   "cell_type": "code",
   "execution_count": 11,
   "outputs": [
    {
     "data": {
      "text/plain": "[0.7563653917028231, 0, 0]"
     },
     "execution_count": 11,
     "metadata": {},
     "output_type": "execute_result"
    }
   ],
   "source": [
    "extnd_baeline_bestfit"
   ],
   "metadata": {
    "collapsed": false,
    "pycharm": {
     "name": "#%%\n"
    }
   }
  },
  {
   "cell_type": "code",
   "execution_count": null,
   "outputs": [],
   "source": [],
   "metadata": {
    "collapsed": false,
    "pycharm": {
     "name": "#%%\n"
    }
   }
  },
  {
   "cell_type": "code",
   "execution_count": null,
   "outputs": [],
   "source": [],
   "metadata": {
    "collapsed": false,
    "pycharm": {
     "name": "#%%\n"
    }
   }
  },
  {
   "cell_type": "code",
   "execution_count": null,
   "outputs": [],
   "source": [],
   "metadata": {
    "collapsed": false,
    "pycharm": {
     "name": "#%%\n"
    }
   }
  }
 ],
 "metadata": {
  "kernelspec": {
   "display_name": "Python 3",
   "language": "python",
   "name": "python3"
  },
  "language_info": {
   "codemirror_mode": {
    "name": "ipython",
    "version": 2
   },
   "file_extension": ".py",
   "mimetype": "text/x-python",
   "name": "python",
   "nbconvert_exporter": "python",
   "pygments_lexer": "ipython2",
   "version": "2.7.6"
  }
 },
 "nbformat": 4,
 "nbformat_minor": 0
}