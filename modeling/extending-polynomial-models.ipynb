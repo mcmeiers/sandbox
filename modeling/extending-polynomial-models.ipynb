{
 "cells": [
  {
   "cell_type": "code",
   "execution_count": 2,
   "metadata": {
    "collapsed": true
   },
   "outputs": [],
   "source": [
    "import numpy as np\n",
    "from scipy import stats\n",
    "\n",
    "from cobaya.theory import Theory\n",
    "from cobaya.run import run\n",
    "from cobaya.log import LoggedError\n",
    "\n",
    "from getdist.mcsamples import MCSamplesFromCobaya\n",
    "import getdist.plots as gdplt"
   ]
  },
  {
   "cell_type": "code",
   "execution_count": 8,
   "outputs": [
    {
     "name": "stdout",
     "output_type": "stream",
     "text": [
      "[noisy_data_like] Initialized external likelihood.\n",
      "[mcmc] Getting initial point... (this may take a few seconds)\n",
      "[prior] Reference values or pdf's for some parameters were not provided. Sampling from the prior instead for those parameters.\n",
      "[model] Measuring speeds... (this may take a few seconds)\n",
      "[model] Setting measured speeds (per sec): {noisy_data_like: 2250.0}\n",
      "[prior] *WARNING* Reference pdf not defined or improper for some parameters. Using prior's sigma instead for them.\n",
      "[mcmc] Covariance matrix not present. We will start learning the covariance of the proposal earlier: R-1 = 30 (would be 2 if all params loaded).\n",
      "[mcmc] Initial point: q0:0.5083439\n",
      "[mcmc] Sampling!\n",
      "[mcmc] Progress @ 2022-03-01 10:47:57 : 1 steps taken, and 0 accepted.\n",
      "[mcmc] Learn + convergence test @ 40 samples accepted.\n",
      "[mcmc]  - Acceptance rate: 0.025\n",
      "[mcmc]  - Convergence of means: R-1 = 0.250900 after 40 accepted steps\n",
      "[mcmc]  - Updated covariance matrix of proposal pdf.\n",
      "[mcmc] Learn + convergence test @ 80 samples accepted.\n",
      "[mcmc]  - Acceptance rate: 0.046\n",
      "[mcmc]  - Convergence of means: R-1 = 0.039223 after 80 accepted steps\n",
      "[mcmc]  - Updated covariance matrix of proposal pdf.\n",
      "[mcmc] Learn + convergence test @ 120 samples accepted.\n",
      "[mcmc]  - Acceptance rate: 0.066\n",
      "[mcmc]  - Convergence of means: R-1 = 0.005818 after 120 accepted steps\n",
      "[mcmc]  - Updated covariance matrix of proposal pdf.\n",
      "[mcmc] Learn + convergence test @ 160 samples accepted.\n",
      "[mcmc]  - Acceptance rate: 0.084\n",
      "[mcmc]  - Convergence of means: R-1 = 0.041221 after 160 accepted steps\n",
      "[mcmc]  - Updated covariance matrix of proposal pdf.\n",
      "[mcmc] Learn + convergence test @ 200 samples accepted.\n",
      "[mcmc]  - Acceptance rate: 0.101\n",
      "[mcmc]  - Convergence of means: R-1 = 0.025809 after 200 accepted steps\n",
      "[mcmc]  - Updated covariance matrix of proposal pdf.\n",
      "[mcmc] Learn + convergence test @ 240 samples accepted.\n",
      "[mcmc]  - Acceptance rate: 0.114\n",
      "[mcmc]  - Convergence of means: R-1 = 0.004056 after 240 accepted steps\n",
      "[mcmc]  - Updated covariance matrix of proposal pdf.\n",
      "[mcmc] Learn + convergence test @ 280 samples accepted.\n",
      "[mcmc]  - Acceptance rate: 0.125\n",
      "[mcmc]  - Convergence of means: R-1 = 0.082339 after 280 accepted steps\n",
      "[mcmc]  - Updated covariance matrix of proposal pdf.\n",
      "[mcmc] Learn + convergence test @ 320 samples accepted.\n",
      "[mcmc]  - Acceptance rate: 0.139\n",
      "[mcmc]  - Convergence of means: R-1 = 0.020960 after 320 accepted steps\n",
      "[mcmc]  - Updated covariance matrix of proposal pdf.\n",
      "[mcmc] Learn + convergence test @ 360 samples accepted.\n",
      "[mcmc]  - Acceptance rate: 0.149\n",
      "[mcmc]  - Convergence of means: R-1 = 0.015483 after 360 accepted steps\n",
      "[mcmc]  - Updated covariance matrix of proposal pdf.\n",
      "[mcmc] Learn + convergence test @ 400 samples accepted.\n",
      "[mcmc]  - Acceptance rate: 0.159\n",
      "[mcmc]  - Convergence of means: R-1 = 0.038754 after 400 accepted steps\n",
      "[mcmc]  - Updated covariance matrix of proposal pdf.\n",
      "[mcmc] Learn + convergence test @ 440 samples accepted.\n",
      "[mcmc]  - Acceptance rate: 0.170\n",
      "[mcmc]  - Convergence of means: R-1 = 0.009226 after 440 accepted steps\n",
      "[mcmc]  - Updated covariance matrix of proposal pdf.\n",
      "[mcmc] Learn + convergence test @ 480 samples accepted.\n",
      "[mcmc]  - Acceptance rate: 0.180\n",
      "[mcmc]  - Convergence of means: R-1 = 0.001626 after 480 accepted steps\n",
      "[mcmc]  - Convergence of bounds: R-1 = 0.175068 after 480 accepted steps\n",
      "[mcmc] The run has converged!\n",
      "[mcmc] Sampling complete after 480 accepted steps.\n"
     ]
    }
   ],
   "source": [
    "rng = np.random.default_rng(12345)\n",
    "\n",
    "\n",
    "simple_coef_truth = np.array([0.1])\n",
    "poly_truth = np.polynomial.Polynomial(simple_coef_truth)\n",
    "sample_std_dev = 0.05\n",
    "\n",
    "n_samples = 100\n",
    "sample_points = np.linspace(-1,1,num=n_samples)\n",
    "samples_truth = poly_truth(sample_points)\n",
    "sample_noise = rng.normal(0, sample_std_dev, n_samples)\n",
    "sample_observed = samples_truth+sample_noise\n",
    "\n",
    "model_dim  =  1\n",
    "model_keys =  tuple('q'+str(i) for i in range(model_dim))\n",
    "model_ranges = dict((k,(-1,1)) for k in model_keys)\n",
    "\n",
    "exec(\"def get_polynomial_vals(\" + \",\".join(model_keys) + \"): return np.polynomial.Polynomial([\"+\",\".join(model_keys)+\"])(sample_points)\")\n",
    "\n",
    "exec(\"def noisy_data_logp(\" + \",\".join(model_keys) + \"): return stats.multivariate_normal.logpdf(get_polynomial_vals(\" + \",\".join(model_keys) + \"), mean=sample_observed, cov=sample_std_dev)\")\n",
    "\n",
    "likelihood_info = {'noisy_data_like': noisy_data_logp}\n",
    "params_info = {k: {\"prior\": {\"min\": -1, \"max\": 1}} for k in model_keys}\n",
    "sampler_info = {'mcmc':{'Rminus1_stop': 0.01, 'max_tries':1000}}\n",
    "info = {'likelihood':likelihood_info,\n",
    "        'params':params_info,\n",
    "        'sampler':sampler_info}\n",
    "\n",
    "updated_info, sampler0 = run(info)"
   ],
   "metadata": {
    "collapsed": false,
    "pycharm": {
     "name": "#%%\n"
    }
   }
  },
  {
   "cell_type": "code",
   "execution_count": 10,
   "outputs": [
    {
     "name": "stdout",
     "output_type": "stream",
     "text": [
      "[root] *WARNING* outlier fraction 0.06458333333333334 \n"
     ]
    },
    {
     "data": {
      "text/plain": "<Figure size 360x360 with 1 Axes>",
      "image/png": "[encoded data removed]"
     },
     "metadata": {
      "needs_background": "light"
     },
     "output_type": "display_data"
    }
   ],
   "source": [
    "gdsamples0 = MCSamplesFromCobaya(updated_info, sampler0.products()[\"sample\"])\n",
    "gdplot = gdplt.get_subplot_plotter(width_inch=5)\n",
    "gdplot.triangle_plot(gdsamples0, model_keys, filled=True)"
   ],
   "metadata": {
    "collapsed": false,
    "pycharm": {
     "name": "#%%\n"
    }
   }
  },
  {
   "cell_type": "code",
   "execution_count": 110,
   "outputs": [],
   "source": [
    "rng = np.random.default_rng(5)\n",
    "pert_min = 2\n",
    "pert_max = 4\n",
    "pert_order = rng.integers(low=pert_min, high=pert_max, size=1)\n",
    "\n",
    "coefs_truth = np.zeros(pert_max+1)\n",
    "coefs_truth[0] = 0.75\n",
    "coefs_truth[pert_order] = 0.1\n",
    "\n",
    "poly_truth = np.polynomial.Polynomial(coefs_truth)\n",
    "sample_std_dev = 0.05"
   ],
   "metadata": {
    "collapsed": false,
    "pycharm": {
     "name": "#%%\n"
    }
   }
  },
  {
   "cell_type": "code",
   "execution_count": 111,
   "outputs": [
    {
     "name": "stdout",
     "output_type": "stream",
     "text": [
      "[noisy_data_like] Initialized external likelihood.\n",
      "[mcmc] Getting initial point... (this may take a few seconds)\n",
      "[prior] Reference values or pdf's for some parameters were not provided. Sampling from the prior instead for those parameters.\n",
      "[model] Measuring speeds... (this may take a few seconds)\n",
      "[model] Setting measured speeds (per sec): {noisy_data_like: 1840.0}\n",
      "[prior] *WARNING* Reference pdf not defined or improper for some parameters. Using prior's sigma instead for them.\n",
      "[mcmc] Covariance matrix not present. We will start learning the covariance of the proposal earlier: R-1 = 30 (would be 2 if all params loaded).\n",
      "[mcmc] Initial point: q0:-0.5783579, q1:-0.5744483, q2:0.1460214, q3:0.1472879, q4:0.08787219\n",
      "[mcmc] Sampling!\n",
      "[mcmc] Progress @ 2022-03-01 13:54:51 : 1 steps taken, and 0 accepted.\n",
      "[mcmc] Learn + convergence test @ 200 samples accepted.\n",
      "[mcmc]  - Acceptance rate: 0.021\n",
      "[mcmc]  - Convergence of means: R-1 = 14.274514 after 200 accepted steps\n",
      "[mcmc]  - Updated covariance matrix of proposal pdf.\n",
      "[mcmc] Learn + convergence test @ 400 samples accepted.\n",
      "[mcmc]  - Acceptance rate: 0.040\n",
      "[mcmc]  - Convergence of means: R-1 = 1.128146 after 400 accepted steps\n",
      "[mcmc]  - Updated covariance matrix of proposal pdf.\n",
      "[mcmc] Learn + convergence test @ 600 samples accepted.\n",
      "[mcmc]  - Acceptance rate: 0.056\n",
      "[mcmc]  - Convergence of means: R-1 = 0.779223 after 600 accepted steps\n",
      "[mcmc]  - Updated covariance matrix of proposal pdf.\n",
      "[mcmc] Learn + convergence test @ 800 samples accepted.\n",
      "[mcmc]  - Acceptance rate: 0.071\n",
      "[mcmc]  - Convergence of means: R-1 = 0.266232 after 800 accepted steps\n",
      "[mcmc]  - Updated covariance matrix of proposal pdf.\n",
      "[mcmc] Learn + convergence test @ 1000 samples accepted.\n",
      "[mcmc]  - Acceptance rate: 0.085\n",
      "[mcmc]  - Convergence of means: R-1 = 0.329607 after 1000 accepted steps\n",
      "[mcmc]  - Updated covariance matrix of proposal pdf.\n",
      "[mcmc] Learn + convergence test @ 1200 samples accepted.\n",
      "[mcmc]  - Acceptance rate: 0.096\n",
      "[mcmc]  - Convergence of means: R-1 = 0.147343 after 1200 accepted steps\n",
      "[mcmc]  - Updated covariance matrix of proposal pdf.\n",
      "[mcmc] Learn + convergence test @ 1400 samples accepted.\n",
      "[mcmc]  - Acceptance rate: 0.105\n",
      "[mcmc]  - Convergence of means: R-1 = 0.054051 after 1400 accepted steps\n",
      "[mcmc]  - Updated covariance matrix of proposal pdf.\n",
      "[mcmc] Learn + convergence test @ 1600 samples accepted.\n",
      "[mcmc]  - Acceptance rate: 0.114\n",
      "[mcmc]  - Convergence of means: R-1 = 0.037345 after 1600 accepted steps\n",
      "[mcmc]  - Updated covariance matrix of proposal pdf.\n",
      "[mcmc] Learn + convergence test @ 1800 samples accepted.\n",
      "[mcmc]  - Acceptance rate: 0.123\n",
      "[mcmc]  - Convergence of means: R-1 = 0.127201 after 1800 accepted steps\n",
      "[mcmc]  - Updated covariance matrix of proposal pdf.\n",
      "[mcmc] Learn + convergence test @ 2000 samples accepted.\n",
      "[mcmc]  - Acceptance rate: 0.130\n",
      "[mcmc]  - Convergence of means: R-1 = 0.110717 after 2000 accepted steps\n",
      "[mcmc]  - Updated covariance matrix of proposal pdf.\n",
      "[mcmc] Learn + convergence test @ 2200 samples accepted.\n",
      "[mcmc]  - Acceptance rate: 0.137\n",
      "[mcmc]  - Convergence of means: R-1 = 0.074846 after 2200 accepted steps\n",
      "[mcmc]  - Updated covariance matrix of proposal pdf.\n",
      "[mcmc] Learn + convergence test @ 2400 samples accepted.\n",
      "[mcmc]  - Acceptance rate: 0.143\n",
      "[mcmc]  - Convergence of means: R-1 = 0.068017 after 2400 accepted steps\n",
      "[mcmc]  - Updated covariance matrix of proposal pdf.\n",
      "[mcmc] Learn + convergence test @ 2600 samples accepted.\n",
      "[mcmc]  - Acceptance rate: 0.148\n",
      "[mcmc]  - Convergence of means: R-1 = 0.079232 after 2600 accepted steps\n",
      "[mcmc]  - Updated covariance matrix of proposal pdf.\n",
      "[mcmc] Learn + convergence test @ 2800 samples accepted.\n",
      "[mcmc]  - Acceptance rate: 0.154\n",
      "[mcmc]  - Convergence of means: R-1 = 0.036690 after 2800 accepted steps\n",
      "[mcmc]  - Updated covariance matrix of proposal pdf.\n",
      "[mcmc] Learn + convergence test @ 3000 samples accepted.\n",
      "[mcmc]  - Acceptance rate: 0.159\n",
      "[mcmc]  - Convergence of means: R-1 = 0.026781 after 3000 accepted steps\n",
      "[mcmc]  - Updated covariance matrix of proposal pdf.\n",
      "[mcmc] Learn + convergence test @ 3200 samples accepted.\n",
      "[mcmc]  - Acceptance rate: 0.163\n",
      "[mcmc]  - Convergence of means: R-1 = 0.022709 after 3200 accepted steps\n",
      "[mcmc]  - Updated covariance matrix of proposal pdf.\n",
      "[mcmc] Learn + convergence test @ 3400 samples accepted.\n",
      "[mcmc]  - Acceptance rate: 0.167\n",
      "[mcmc]  - Convergence of means: R-1 = 0.025482 after 3400 accepted steps\n",
      "[mcmc]  - Updated covariance matrix of proposal pdf.\n",
      "[mcmc] Learn + convergence test @ 3600 samples accepted.\n",
      "[mcmc]  - Acceptance rate: 0.171\n",
      "[mcmc]  - Convergence of means: R-1 = 0.020882 after 3600 accepted steps\n",
      "[mcmc]  - Updated covariance matrix of proposal pdf.\n",
      "[mcmc] Learn + convergence test @ 3800 samples accepted.\n",
      "[mcmc]  - Acceptance rate: 0.174\n",
      "[mcmc]  - Convergence of means: R-1 = 0.018725 after 3800 accepted steps\n",
      "[mcmc]  - Updated covariance matrix of proposal pdf.\n",
      "[mcmc] Learn + convergence test @ 4000 samples accepted.\n",
      "[mcmc]  - Acceptance rate: 0.178\n",
      "[mcmc]  - Convergence of means: R-1 = 0.029284 after 4000 accepted steps\n",
      "[mcmc]  - Updated covariance matrix of proposal pdf.\n",
      "[mcmc] Learn + convergence test @ 4200 samples accepted.\n",
      "[mcmc]  - Acceptance rate: 0.181\n",
      "[mcmc]  - Convergence of means: R-1 = 0.023694 after 4200 accepted steps\n",
      "[mcmc]  - Updated covariance matrix of proposal pdf.\n",
      "[mcmc] Learn + convergence test @ 4400 samples accepted.\n",
      "[mcmc]  - Acceptance rate: 0.184\n",
      "[mcmc]  - Convergence of means: R-1 = 0.020709 after 4400 accepted steps\n",
      "[mcmc]  - Updated covariance matrix of proposal pdf.\n",
      "[mcmc] Learn + convergence test @ 4600 samples accepted.\n",
      "[mcmc]  - Acceptance rate: 0.187\n",
      "[mcmc]  - Convergence of means: R-1 = 0.013092 after 4600 accepted steps\n",
      "[mcmc]  - Updated covariance matrix of proposal pdf.\n",
      "[mcmc] Learn + convergence test @ 4800 samples accepted.\n",
      "[mcmc]  - Acceptance rate: 0.189\n",
      "[mcmc]  - Convergence of means: R-1 = 0.014827 after 4800 accepted steps\n",
      "[mcmc]  - Updated covariance matrix of proposal pdf.\n",
      "[mcmc] Learn + convergence test @ 5000 samples accepted.\n",
      "[mcmc]  - Acceptance rate: 0.192\n",
      "[mcmc]  - Convergence of means: R-1 = 0.013797 after 5000 accepted steps\n",
      "[mcmc]  - Updated covariance matrix of proposal pdf.\n",
      "[mcmc] Learn + convergence test @ 5200 samples accepted.\n",
      "[mcmc]  - Acceptance rate: 0.195\n",
      "[mcmc]  - Convergence of means: R-1 = 0.022412 after 5200 accepted steps\n",
      "[mcmc]  - Updated covariance matrix of proposal pdf.\n",
      "[mcmc] Learn + convergence test @ 5400 samples accepted.\n",
      "[mcmc]  - Acceptance rate: 0.197\n",
      "[mcmc]  - Convergence of means: R-1 = 0.026474 after 5400 accepted steps\n",
      "[mcmc]  - Updated covariance matrix of proposal pdf.\n",
      "[mcmc] Learn + convergence test @ 5600 samples accepted.\n",
      "[mcmc]  - Acceptance rate: 0.199\n",
      "[mcmc]  - Convergence of means: R-1 = 0.015091 after 5600 accepted steps\n",
      "[mcmc]  - Updated covariance matrix of proposal pdf.\n",
      "[mcmc] Learn + convergence test @ 5800 samples accepted.\n",
      "[mcmc]  - Acceptance rate: 0.201\n",
      "[mcmc]  - Convergence of means: R-1 = 0.013956 after 5800 accepted steps\n",
      "[mcmc]  - Updated covariance matrix of proposal pdf.\n",
      "[mcmc] Learn + convergence test @ 6000 samples accepted.\n",
      "[mcmc]  - Acceptance rate: 0.203\n",
      "[mcmc]  - Convergence of means: R-1 = 0.015961 after 6000 accepted steps\n",
      "[mcmc]  - Updated covariance matrix of proposal pdf.\n",
      "[mcmc] Learn + convergence test @ 6200 samples accepted.\n",
      "[mcmc]  - Acceptance rate: 0.205\n",
      "[mcmc]  - Convergence of means: R-1 = 0.009467 after 6200 accepted steps\n",
      "[mcmc]  - Updated covariance matrix of proposal pdf.\n",
      "[mcmc] Learn + convergence test @ 6400 samples accepted.\n",
      "[mcmc]  - Acceptance rate: 0.206\n",
      "[mcmc]  - Convergence of means: R-1 = 0.010598 after 6400 accepted steps\n",
      "[mcmc]  - Updated covariance matrix of proposal pdf.\n",
      "[mcmc] Learn + convergence test @ 6600 samples accepted.\n",
      "[mcmc]  - Acceptance rate: 0.208\n",
      "[mcmc]  - Convergence of means: R-1 = 0.025275 after 6600 accepted steps\n",
      "[mcmc]  - Updated covariance matrix of proposal pdf.\n",
      "[mcmc] Learn + convergence test @ 6800 samples accepted.\n",
      "[mcmc]  - Acceptance rate: 0.210\n",
      "[mcmc]  - Convergence of means: R-1 = 0.024010 after 6800 accepted steps\n",
      "[mcmc]  - Updated covariance matrix of proposal pdf.\n",
      "[mcmc] Learn + convergence test @ 7000 samples accepted.\n",
      "[mcmc]  - Acceptance rate: 0.211\n",
      "[mcmc]  - Convergence of means: R-1 = 0.018439 after 7000 accepted steps\n",
      "[mcmc]  - Updated covariance matrix of proposal pdf.\n",
      "[mcmc] Learn + convergence test @ 7200 samples accepted.\n",
      "[mcmc]  - Acceptance rate: 0.212\n",
      "[mcmc]  - Convergence of means: R-1 = 0.020755 after 7200 accepted steps\n",
      "[mcmc]  - Updated covariance matrix of proposal pdf.\n",
      "[mcmc] Learn + convergence test @ 7400 samples accepted.\n",
      "[mcmc]  - Acceptance rate: 0.214\n",
      "[mcmc]  - Convergence of means: R-1 = 0.015402 after 7400 accepted steps\n",
      "[mcmc]  - Updated covariance matrix of proposal pdf.\n",
      "[mcmc] Learn + convergence test @ 7600 samples accepted.\n",
      "[mcmc]  - Acceptance rate: 0.215\n",
      "[mcmc]  - Convergence of means: R-1 = 0.009203 after 7600 accepted steps\n",
      "[mcmc]  - Updated covariance matrix of proposal pdf.\n",
      "[mcmc] Learn + convergence test @ 7800 samples accepted.\n",
      "[mcmc]  - Acceptance rate: 0.216\n",
      "[mcmc]  - Convergence of means: R-1 = 0.008448 after 7800 accepted steps\n",
      "[mcmc]  - Updated covariance matrix of proposal pdf.\n",
      "[mcmc] Learn + convergence test @ 8000 samples accepted.\n",
      "[mcmc]  - Acceptance rate: 0.218\n",
      "[mcmc]  - Convergence of means: R-1 = 0.006512 after 8000 accepted steps\n",
      "[mcmc]  - Updated covariance matrix of proposal pdf.\n",
      "[mcmc] Learn + convergence test @ 8200 samples accepted.\n",
      "[mcmc]  - Acceptance rate: 0.219\n",
      "[mcmc]  - Convergence of means: R-1 = 0.008139 after 8200 accepted steps\n",
      "[mcmc]  - Updated covariance matrix of proposal pdf.\n",
      "[mcmc] Learn + convergence test @ 8400 samples accepted.\n",
      "[mcmc]  - Acceptance rate: 0.220\n",
      "[mcmc]  - Convergence of means: R-1 = 0.006779 after 8400 accepted steps\n",
      "[mcmc]  - Updated covariance matrix of proposal pdf.\n",
      "[mcmc] Learn + convergence test @ 8600 samples accepted.\n",
      "[mcmc]  - Acceptance rate: 0.221\n",
      "[mcmc]  - Convergence of means: R-1 = 0.009666 after 8600 accepted steps\n",
      "[mcmc]  - Updated covariance matrix of proposal pdf.\n",
      "[mcmc] Learn + convergence test @ 8800 samples accepted.\n",
      "[mcmc]  - Acceptance rate: 0.223\n",
      "[mcmc]  - Convergence of means: R-1 = 0.011425 after 8800 accepted steps\n",
      "[mcmc]  - Updated covariance matrix of proposal pdf.\n",
      "[mcmc] Learn + convergence test @ 9000 samples accepted.\n",
      "[mcmc]  - Acceptance rate: 0.223\n",
      "[mcmc]  - Convergence of means: R-1 = 0.012537 after 9000 accepted steps\n",
      "[mcmc]  - Updated covariance matrix of proposal pdf.\n",
      "[mcmc] Learn + convergence test @ 9200 samples accepted.\n",
      "[mcmc]  - Acceptance rate: 0.224\n",
      "[mcmc]  - Convergence of means: R-1 = 0.010492 after 9200 accepted steps\n",
      "[mcmc]  - Updated covariance matrix of proposal pdf.\n",
      "[mcmc] Learn + convergence test @ 9400 samples accepted.\n",
      "[mcmc]  - Acceptance rate: 0.226\n",
      "[mcmc]  - Convergence of means: R-1 = 0.007386 after 9400 accepted steps\n",
      "[mcmc]  - Updated covariance matrix of proposal pdf.\n",
      "[mcmc] Learn + convergence test @ 9600 samples accepted.\n",
      "[mcmc]  - Acceptance rate: 0.227\n",
      "[mcmc]  - Convergence of means: R-1 = 0.008454 after 9600 accepted steps\n",
      "[mcmc]  - Updated covariance matrix of proposal pdf.\n",
      "[mcmc] Learn + convergence test @ 9800 samples accepted.\n",
      "[mcmc]  - Acceptance rate: 0.227\n",
      "[mcmc]  - Convergence of means: R-1 = 0.006478 after 9800 accepted steps\n",
      "[mcmc]  - Updated covariance matrix of proposal pdf.\n",
      "[mcmc] Learn + convergence test @ 10000 samples accepted.\n",
      "[mcmc]  - Acceptance rate: 0.228\n",
      "[mcmc]  - Convergence of means: R-1 = 0.007580 after 10000 accepted steps\n",
      "[mcmc]  - Updated covariance matrix of proposal pdf.\n",
      "[mcmc] Learn + convergence test @ 10200 samples accepted.\n",
      "[mcmc]  - Acceptance rate: 0.229\n",
      "[mcmc]  - Convergence of means: R-1 = 0.013395 after 10200 accepted steps\n",
      "[mcmc]  - Updated covariance matrix of proposal pdf.\n",
      "[mcmc] Learn + convergence test @ 10400 samples accepted.\n",
      "[mcmc]  - Acceptance rate: 0.230\n",
      "[mcmc]  - Convergence of means: R-1 = 0.010857 after 10400 accepted steps\n",
      "[mcmc]  - Updated covariance matrix of proposal pdf.\n",
      "[mcmc] Learn + convergence test @ 10600 samples accepted.\n",
      "[mcmc]  - Acceptance rate: 0.230\n",
      "[mcmc]  - Convergence of means: R-1 = 0.008987 after 10600 accepted steps\n",
      "[mcmc]  - Updated covariance matrix of proposal pdf.\n",
      "[mcmc] Learn + convergence test @ 10800 samples accepted.\n",
      "[mcmc]  - Acceptance rate: 0.231\n",
      "[mcmc]  - Convergence of means: R-1 = 0.010557 after 10800 accepted steps\n",
      "[mcmc]  - Updated covariance matrix of proposal pdf.\n",
      "[mcmc] Learn + convergence test @ 11000 samples accepted.\n",
      "[mcmc]  - Acceptance rate: 0.232\n",
      "[mcmc]  - Convergence of means: R-1 = 0.005151 after 11000 accepted steps\n",
      "[mcmc]  - Updated covariance matrix of proposal pdf.\n",
      "[mcmc] Learn + convergence test @ 11200 samples accepted.\n",
      "[mcmc]  - Acceptance rate: 0.232\n",
      "[mcmc]  - Convergence of means: R-1 = 0.002040 after 11200 accepted steps\n",
      "[mcmc]  - Updated covariance matrix of proposal pdf.\n",
      "[mcmc] Learn + convergence test @ 11400 samples accepted.\n",
      "[mcmc]  - Acceptance rate: 0.233\n",
      "[mcmc]  - Convergence of means: R-1 = 0.002621 after 11400 accepted steps\n",
      "[mcmc]  - Convergence of bounds: R-1 = 0.042066 after 11400 accepted steps\n",
      "[mcmc] The run has converged!\n",
      "[mcmc] Sampling complete after 11400 accepted steps.\n"
     ]
    }
   ],
   "source": [
    "n_samples = 100\n",
    "sample_points = np.linspace(-1,1,num=n_samples)\n",
    "samples_truth = poly_truth(sample_points)\n",
    "sample_noise = rng.normal(0, sample_std_dev, n_samples)\n",
    "sample_observed = samples_truth+sample_noise\n",
    "\n",
    "model_dim  =  pert_max+1\n",
    "model_keys =  tuple('q'+str(i) for i in range(model_dim))\n",
    "model_ranges = dict((k,{\"min\": -1, \"max\": 1}) for k in model_keys[:3])\n",
    "model_ranges |= dict((k,{\"min\": -0.2, \"max\": 0.2}) for k in model_keys[3:])\n",
    "\n",
    "exec(\"def get_polynomial_vals(\" + \",\".join(model_keys) + \"): return np.polynomial.Polynomial([\"+\",\".join(model_keys)+\"])(sample_points)\")\n",
    "\n",
    "exec(\"def noisy_data_logp(\" + \",\".join(model_keys) + \"): return stats.multivariate_normal.logpdf(get_polynomial_vals(\" + \",\".join(model_keys) + \"), mean=sample_observed, cov=sample_std_dev)\")\n",
    "\n",
    "likelihood_info = {'noisy_data_like': noisy_data_logp}\n",
    "params_info = {k: {\"prior\": model_ranges[k]} for k in model_keys}\n",
    "sampler_info = {'mcmc':{'Rminus1_stop': 0.005,'max_tries': 10000}}\n",
    "info = {'likelihood':likelihood_info,\n",
    "        'params':params_info,\n",
    "        'sampler':sampler_info,\n",
    "        'max_tries': np.inf}\n",
    "updated_info, sampler2 = run(info)"
   ],
   "metadata": {
    "collapsed": false,
    "pycharm": {
     "name": "#%%\n"
    }
   }
  },
  {
   "cell_type": "code",
   "execution_count": 112,
   "outputs": [
    {
     "name": "stdout",
     "output_type": "stream",
     "text": [
      "[root] *WARNING* outlier fraction 0.002631578947368421 \n",
      "[root] *WARNING* auto bandwidth for q4 very small or failed (h=0.0001241528143175177,N_eff=107.10655331263003). Using fallback (h=0.1460632907381148)\n",
      "[root] *WARNING* 2D kernel density bandwidth optimizer failed for q0, q4. Using fallback width: f(a) and f(b) must have different signs\n",
      "[root] *WARNING* 2D kernel density bandwidth optimizer failed for q2, q4. Using fallback width: f(a) and f(b) must have different signs\n"
     ]
    },
    {
     "data": {
      "text/plain": "<Figure size 720x720 with 15 Axes>",
      "image/png": "[encoded data removed]"
     },
     "metadata": {
      "needs_background": "light"
     },
     "output_type": "display_data"
    }
   ],
   "source": [
    "gdsamples2 = MCSamplesFromCobaya(updated_info, sampler2.products()[\"sample\"])\n",
    "gdplot = gdplt.get_subplot_plotter(width_inch=10)\n",
    "gdplot.triangle_plot(gdsamples2, model_keys, filled=True)"
   ],
   "metadata": {
    "collapsed": false,
    "pycharm": {
     "name": "#%%\n"
    }
   }
  },
  {
   "cell_type": "code",
   "execution_count": 92,
   "outputs": [
    {
     "data": {
      "text/plain": "Polynomial([0.75, 0.  , 0.  , 0.1 , 0.  ], domain=[-1,  1], window=[-1,  1])",
      "text/latex": "$x \\mapsto \\text{0.75}\\color{LightGray}{ + \\text{0.0}\\,x}\\color{LightGray}{ + \\text{0.0}\\,x^{2}} + \\text{0.1}\\,x^{3}\\color{LightGray}{ + \\text{0.0}\\,x^{4}}$"
     },
     "execution_count": 92,
     "metadata": {},
     "output_type": "execute_result"
    }
   ],
   "source": [
    "poly_truth"
   ],
   "metadata": {
    "collapsed": false,
    "pycharm": {
     "name": "#%%\n"
    }
   }
  },
  {
   "cell_type": "code",
   "execution_count": 108,
   "outputs": [
    {
     "data": {
      "text/plain": "array([0.02412788, 0.05561814, 0.09924562, 0.07546723, 0.09865147])"
     },
     "execution_count": 108,
     "metadata": {},
     "output_type": "execute_result"
    }
   ],
   "source": [
    "gdsamples2.std(model_keys)"
   ],
   "metadata": {
    "collapsed": false,
    "pycharm": {
     "name": "#%%\n"
    }
   }
  },
  {
   "cell_type": "code",
   "execution_count": 115,
   "outputs": [
    {
     "data": {
      "text/plain": "-0.0962099886786155"
     },
     "execution_count": 115,
     "metadata": {},
     "output_type": "execute_result"
    }
   ],
   "source": [
    "gdsamples2.confidence('q1',0.025)"
   ],
   "metadata": {
    "collapsed": false,
    "pycharm": {
     "name": "#%%\n"
    }
   }
  },
  {
   "cell_type": "code",
   "execution_count": 25,
   "outputs": [
    {
     "data": {
      "text/plain": "Polynomial([-0.36648332,  0.59473091,  0.35250934,  0.        ,  0.        ,\n       -0.02177809], domain=[-1,  1], window=[-1,  1])",
      "text/latex": "$x \\mapsto \\text{-0.36648332058049427} + \\text{0.5947309146654682}\\,x + \\text{0.3525093415019491}\\,x^{2}\\color{LightGray}{ + \\text{0.0}\\,x^{3}}\\color{LightGray}{ + \\text{0.0}\\,x^{4}} - \\text{0.021778089879618198}\\,x^{5}$"
     },
     "execution_count": 25,
     "metadata": {},
     "output_type": "execute_result"
    }
   ],
   "source": [
    "poly_truth"
   ],
   "metadata": {
    "collapsed": false,
    "pycharm": {
     "name": "#%%\n"
    }
   }
  },
  {
   "cell_type": "code",
   "execution_count": 34,
   "outputs": [
    {
     "data": {
      "text/plain": "('a',)"
     },
     "execution_count": 34,
     "metadata": {},
     "output_type": "execute_result"
    }
   ],
   "source": [
    "def foo(a):\n",
    "        return a\n",
    "\n",
    "foo.__code__.co_varnames"
   ],
   "metadata": {
    "collapsed": false,
    "pycharm": {
     "name": "#%%\n"
    }
   }
  },
  {
   "cell_type": "code",
   "execution_count": null,
   "outputs": [],
   "source": [],
   "metadata": {
    "collapsed": false,
    "pycharm": {
     "name": "#%%\n"
    }
   }
  }
 ],
 "metadata": {
  "kernelspec": {
   "display_name": "Python 3",
   "language": "python",
   "name": "python3"
  },
  "language_info": {
   "codemirror_mode": {
    "name": "ipython",
    "version": 2
   },
   "file_extension": ".py",
   "mimetype": "text/x-python",
   "name": "python",
   "nbconvert_exporter": "python",
   "pygments_lexer": "ipython2",
   "version": "2.7.6"
  }
 },
 "nbformat": 4,
 "nbformat_minor": 0
}